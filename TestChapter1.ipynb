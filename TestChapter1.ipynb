{
 "metadata": {
  "name": ""
 },
 "nbformat": 3,
 "nbformat_minor": 0,
 "worksheets": [
  {
   "cells": [
    {
     "cell_type": "heading",
     "level": 1,
     "metadata": {},
     "source": [
      "Chapter 1: Data visualization"
     ]
    },
    {
     "cell_type": "code",
     "collapsed": false,
     "input": [
      "from astroML.datasets import fetch_imaging_sample"
     ],
     "language": "python",
     "metadata": {},
     "outputs": [],
     "prompt_number": 11
    },
    {
     "cell_type": "code",
     "collapsed": false,
     "input": [
      "%matplotlib inline"
     ],
     "language": "python",
     "metadata": {},
     "outputs": [],
     "prompt_number": 29
    },
    {
     "cell_type": "code",
     "collapsed": false,
     "input": [
      "data=fetch_imaging_sample()"
     ],
     "language": "python",
     "metadata": {},
     "outputs": [],
     "prompt_number": 12
    },
    {
     "cell_type": "code",
     "collapsed": false,
     "input": [
      "data.shape"
     ],
     "language": "python",
     "metadata": {},
     "outputs": [
      {
       "metadata": {},
       "output_type": "pyout",
       "prompt_number": 13,
       "text": [
        "(330753,)"
       ]
      }
     ],
     "prompt_number": 13
    },
    {
     "cell_type": "code",
     "collapsed": false,
     "input": [
      "data.dtype.names[:5]"
     ],
     "language": "python",
     "metadata": {},
     "outputs": [
      {
       "metadata": {},
       "output_type": "pyout",
       "prompt_number": 14,
       "text": [
        "('ra', 'dec', 'run', 'rExtSFD', 'uRaw')"
       ]
      }
     ],
     "prompt_number": 14
    },
    {
     "cell_type": "code",
     "collapsed": false,
     "input": [
      "data['ra'][:5]"
     ],
     "language": "python",
     "metadata": {},
     "outputs": [
      {
       "metadata": {},
       "output_type": "pyout",
       "prompt_number": 15,
       "text": [
        "array([ 0.358174,  0.358382,  0.357898,  0.35791 ,  0.358881])"
       ]
      }
     ],
     "prompt_number": 15
    },
    {
     "cell_type": "code",
     "collapsed": false,
     "input": [
      "data['dec'][:5]"
     ],
     "language": "python",
     "metadata": {},
     "outputs": [
      {
       "metadata": {},
       "output_type": "pyout",
       "prompt_number": 16,
       "text": [
        "array([-0.508718, -0.551157, -0.570892, -0.426526, -0.505625])"
       ]
      }
     ],
     "prompt_number": 16
    },
    {
     "cell_type": "heading",
     "level": 2,
     "metadata": {},
     "source": [
      "Figure 1.1 - SDSS photometric stars and galaxies"
     ]
    },
    {
     "cell_type": "code",
     "collapsed": false,
     "input": [
      "# Author: Jake VanderPlas\n",
      "# License: BSD\n",
      "#   The figure produced by this code is published in the textbook\n",
      "#   \"Statistics, Data Mining, and Machine Learning in Astronomy\" (2013)\n",
      "#   For more information, see http://astroML.github.com\n",
      "#   To report a bug or issue, use the following forum:\n",
      "#    https://groups.google.com/forum/#!forum/astroml-general\n",
      "import numpy as np\n",
      "from matplotlib import pyplot as plt\n",
      "from astroML.datasets import fetch_imaging_sample\n",
      "\n",
      "#----------------------------------------------------------------------\n",
      "# This function adjusts matplotlib settings for a uniform feel in the textbook.\n",
      "# Note that with usetex=True, fonts are rendered with LaTeX.  This may\n",
      "# result in an error if LaTeX is not installed on your system.  In that case,\n",
      "# you can set usetex to False.\n",
      "from astroML.plotting import setup_text_plots\n",
      "setup_text_plots(fontsize=8, usetex=True)\n",
      "\n",
      "\n",
      "def get_stars_and_galaxies(Nstars=5000, Ngals=5000):\n",
      "    \"\"\"Get the subset of star/galaxy data to plot\"\"\"\n",
      "    data = fetch_imaging_sample()\n",
      "\n",
      "    objtype = data['type']\n",
      "\n",
      "    stars = data[objtype == 6][:Nstars]\n",
      "    galaxies = data[objtype == 3][:Ngals]\n",
      "\n",
      "    return stars, galaxies\n",
      "\n",
      "\n",
      "def plot_stars_and_galaxies(stars, galaxies):\n",
      "    \"\"\"Plot the star and galaxy data\"\"\"\n",
      "    # Note: we use plot() rather than scatter() because it's more efficient\n",
      "    # for large numbers of points.\n",
      "    # Scatter should be used only when points need to be different colors\n",
      "    # and/or sizes\n",
      "    plot_kwargs = dict(color='k', linestyle='none', marker=',')\n",
      "\n",
      "    fig = plt.figure(figsize=(10, 7.5))\n",
      "\n",
      "    ax1 = fig.add_subplot(221)\n",
      "    ax1.plot(galaxies['gRaw'] - galaxies['rRaw'],\n",
      "             galaxies['rRaw'],\n",
      "             **plot_kwargs)\n",
      "\n",
      "    ax2 = fig.add_subplot(223, sharex=ax1)\n",
      "    ax2.plot(galaxies['gRaw'] - galaxies['rRaw'],\n",
      "             galaxies['rRaw'] - galaxies['iRaw'],\n",
      "             **plot_kwargs)\n",
      "\n",
      "    ax3 = fig.add_subplot(222, sharey=ax1)\n",
      "    ax3.plot(stars['gRaw'] - stars['rRaw'],\n",
      "             stars['rRaw'],\n",
      "             **plot_kwargs)\n",
      "\n",
      "    ax4 = fig.add_subplot(224, sharex=ax3, sharey=ax2)\n",
      "    ax4.plot(stars['gRaw'] - stars['rRaw'],\n",
      "             stars['rRaw'] - stars['iRaw'],\n",
      "             **plot_kwargs)\n",
      "\n",
      "    # set labels and titles\n",
      "    ax1.set_ylabel(r'${\\rm r}$')\n",
      "    ax2.set_ylabel(r'${\\rm r - i}$')\n",
      "    ax2.set_xlabel(r'${\\rm g - r}$')\n",
      "    ax4.set_xlabel(r'${\\rm g - r}$')\n",
      "    ax1.set_title('Galaxies')\n",
      "    ax3.set_title('Stars')\n",
      "\n",
      "    # set axis limits\n",
      "    ax2.set_xlim(-1, 3)\n",
      "    ax3.set_ylim(22.5, 14)\n",
      "    ax4.set_xlim(-1, 3)\n",
      "    ax4.set_ylim(-1, 2)\n",
      "\n",
      "    # adjust tick spacings on all axes\n",
      "    for ax in (ax1, ax2, ax3, ax4):\n",
      "        ax.xaxis.set_major_locator(plt.MultipleLocator(1))\n",
      "        ax.yaxis.set_major_locator(plt.MultipleLocator(1))\n",
      "\n",
      "#------------------------------------------------------------\n",
      "# Generate and show the plot\n",
      "stars, galaxies = get_stars_and_galaxies()\n",
      "plot_stars_and_galaxies(stars, galaxies)\n",
      "plt.show()"
     ],
     "language": "python",
     "metadata": {},
     "outputs": [
      {
       "output_type": "stream",
       "stream": "stdout",
       "text": [
        "Downloading http://www.astro.washington.edu/users/ivezic/DMbook/data/sgSDSSimagingSample.fit\n",
        "[=                                      ]  1.51Mb / 60.58Mb   \r"
       ]
      },
      {
       "output_type": "stream",
       "stream": "stdout",
       "text": [
        "[==                                     ]  3.03Mb / 60.58Mb   \r"
       ]
      },
      {
       "output_type": "stream",
       "stream": "stdout",
       "text": [
        "[===                                    ]  4.54Mb / 60.58Mb   \r"
       ]
      },
      {
       "output_type": "stream",
       "stream": "stdout",
       "text": [
        "[====                                   ]  6.06Mb / 60.58Mb   \r"
       ]
      },
      {
       "output_type": "stream",
       "stream": "stdout",
       "text": [
        "[=====                                  ]  7.57Mb / 60.58Mb   \r"
       ]
      },
      {
       "output_type": "stream",
       "stream": "stdout",
       "text": [
        "[======                                 ]  9.09Mb / 60.58Mb   \r"
       ]
      },
      {
       "output_type": "stream",
       "stream": "stdout",
       "text": [
        "[=======                                ]  10.60Mb / 60.58Mb   \r"
       ]
      },
      {
       "output_type": "stream",
       "stream": "stdout",
       "text": [
        "[========                               ]  12.12Mb / 60.58Mb   \r"
       ]
      },
      {
       "output_type": "stream",
       "stream": "stdout",
       "text": [
        "[=========                              ]  13.63Mb / 60.58Mb   \r"
       ]
      },
      {
       "output_type": "stream",
       "stream": "stdout",
       "text": [
        "[==========                             ]  15.14Mb / 60.58Mb   \r"
       ]
      },
      {
       "output_type": "stream",
       "stream": "stdout",
       "text": [
        "[===========                            ]  16.66Mb / 60.58Mb   \r"
       ]
      },
      {
       "output_type": "stream",
       "stream": "stdout",
       "text": [
        "[============                           ]  18.17Mb / 60.58Mb   \r"
       ]
      },
      {
       "output_type": "stream",
       "stream": "stdout",
       "text": [
        "[=============                          ]  19.69Mb / 60.58Mb   \r"
       ]
      },
      {
       "output_type": "stream",
       "stream": "stdout",
       "text": [
        "[==============                         ]  21.20Mb / 60.58Mb   \r"
       ]
      },
      {
       "output_type": "stream",
       "stream": "stdout",
       "text": [
        "[===============                        ]  22.72Mb / 60.58Mb   \r"
       ]
      },
      {
       "output_type": "stream",
       "stream": "stdout",
       "text": [
        "[================                       ]  24.23Mb / 60.58Mb   \r"
       ]
      },
      {
       "output_type": "stream",
       "stream": "stdout",
       "text": [
        "[=================                      ]  25.74Mb / 60.58Mb   \r"
       ]
      },
      {
       "output_type": "stream",
       "stream": "stdout",
       "text": [
        "[==================                     ]  27.26Mb / 60.58Mb   \r"
       ]
      },
      {
       "output_type": "stream",
       "stream": "stdout",
       "text": [
        "[===================                    ]  28.77Mb / 60.58Mb   \r"
       ]
      },
      {
       "output_type": "stream",
       "stream": "stdout",
       "text": [
        "[====================                   ]  30.29Mb / 60.58Mb   \r"
       ]
      },
      {
       "output_type": "stream",
       "stream": "stdout",
       "text": [
        "[=====================                  ]  31.80Mb / 60.58Mb   \r"
       ]
      },
      {
       "output_type": "stream",
       "stream": "stdout",
       "text": [
        "[======================                 ]  33.32Mb / 60.58Mb   \r"
       ]
      },
      {
       "output_type": "stream",
       "stream": "stdout",
       "text": [
        "[=======================                ]  34.83Mb / 60.58Mb   \r"
       ]
      },
      {
       "output_type": "stream",
       "stream": "stdout",
       "text": [
        "[========================               ]  36.35Mb / 60.58Mb   \r"
       ]
      },
      {
       "output_type": "stream",
       "stream": "stdout",
       "text": [
        "[=========================              ]  37.86Mb / 60.58Mb   \r"
       ]
      },
      {
       "output_type": "stream",
       "stream": "stdout",
       "text": [
        "[==========================             ]  39.37Mb / 60.58Mb   \r"
       ]
      },
      {
       "output_type": "stream",
       "stream": "stdout",
       "text": [
        "[===========================            ]  40.89Mb / 60.58Mb   \r"
       ]
      },
      {
       "output_type": "stream",
       "stream": "stdout",
       "text": [
        "[============================           ]  42.40Mb / 60.58Mb   \r"
       ]
      },
      {
       "output_type": "stream",
       "stream": "stdout",
       "text": [
        "[=============================          ]  43.92Mb / 60.58Mb   \r"
       ]
      },
      {
       "output_type": "stream",
       "stream": "stdout",
       "text": [
        "[==============================         ]  45.43Mb / 60.58Mb   \r"
       ]
      },
      {
       "output_type": "stream",
       "stream": "stdout",
       "text": [
        "[===============================        ]  46.95Mb / 60.58Mb   \r"
       ]
      },
      {
       "output_type": "stream",
       "stream": "stdout",
       "text": [
        "[================================       ]  48.46Mb / 60.58Mb   \r"
       ]
      },
      {
       "output_type": "stream",
       "stream": "stdout",
       "text": [
        "[=================================      ]  49.98Mb / 60.58Mb   \r"
       ]
      },
      {
       "output_type": "stream",
       "stream": "stdout",
       "text": [
        "[==================================     ]  51.49Mb / 60.58Mb   \r"
       ]
      },
      {
       "output_type": "stream",
       "stream": "stdout",
       "text": [
        "[===================================    ]  53.00Mb / 60.58Mb   \r"
       ]
      },
      {
       "output_type": "stream",
       "stream": "stdout",
       "text": [
        "[====================================   ]  54.52Mb / 60.58Mb   \r"
       ]
      },
      {
       "output_type": "stream",
       "stream": "stdout",
       "text": [
        "[=====================================  ]  56.03Mb / 60.58Mb   \r"
       ]
      },
      {
       "output_type": "stream",
       "stream": "stdout",
       "text": [
        "[====================================== ]  57.55Mb / 60.58Mb   \r"
       ]
      },
      {
       "output_type": "stream",
       "stream": "stdout",
       "text": [
        "[=======================================]  59.06Mb / 60.58Mb   \r"
       ]
      },
      {
       "output_type": "stream",
       "stream": "stdout",
       "text": [
        "[========================================]  60.58Mb / 60.58Mb   \r"
       ]
      },
      {
       "output_type": "stream",
       "stream": "stdout",
       "text": [
        "\n"
       ]
      },
      {
       "metadata": {},
       "output_type": "display_data",
       "png": "[encoded data removed]",
       "text": [
        "<matplotlib.figure.Figure at 0x1087b1390>"
       ]
      }
     ],
     "prompt_number": 30
    },
    {
     "cell_type": "raw",
     "metadata": {},
     "source": [
      "NOTE: 1.5.4 says that you can access SDSS database directly and in real time.  In astroML.datasets, the function fetch_sdss_spectrum gives an interface to the FITS files located on the SDSS spectral server.  This is done in the background using the Python module urllib2.  For information, see the source code of fetch_sdss_spectrum."
     ]
    },
    {
     "cell_type": "heading",
     "level": 2,
     "metadata": {},
     "source": [
      "Figure 1.2 - SDSS spectrum"
     ]
    },
    {
     "cell_type": "code",
     "collapsed": false,
     "input": [
      "# Author: Jake VanderPlas\n",
      "# License: BSD\n",
      "#   The figure produced by this code is published in the textbook\n",
      "#   \"Statistics, Data Mining, and Machine Learning in Astronomy\" (2013)\n",
      "#   For more information, see http://astroML.github.com\n",
      "#   To report a bug or issue, use the following forum:\n",
      "#    https://groups.google.com/forum/#!forum/astroml-general\n",
      "from matplotlib import pyplot as plt\n",
      "from astroML.datasets import fetch_sdss_spectrum\n",
      "\n",
      "#----------------------------------------------------------------------\n",
      "# This function adjusts matplotlib settings for a uniform feel in the textbook.\n",
      "# Note that with usetex=True, fonts are rendered with LaTeX.  This may\n",
      "# result in an error if LaTeX is not installed on your system.  In that case,\n",
      "# you can set usetex to False.\n",
      "from astroML.plotting import setup_text_plots\n",
      "setup_text_plots(fontsize=18, usetex=True)\n",
      "\n",
      "#------------------------------------------------------------\n",
      "# Fetch single spectrum\n",
      "plate = 1615\n",
      "mjd = 53166\n",
      "fiber = 513\n",
      "\n",
      "spec = fetch_sdss_spectrum(plate, mjd, fiber)\n",
      "\n",
      "#------------------------------------------------------------\n",
      "# Plot the resulting spectrum\n",
      "fig, ax = plt.subplots(figsize=(10, 7.5))\n",
      "ax.plot(spec.wavelength(), spec.spectrum, '-k', lw=1)\n",
      "\n",
      "ax.set_xlim(3000, 10000)\n",
      "ax.set_ylim(25, 300)\n",
      "\n",
      "ax.set_xlabel(r'$\\lambda {(\\rm \\AA)}$')\n",
      "ax.set_ylabel('Flux')\n",
      "ax.set_title('Plate = %(plate)i, MJD = %(mjd)i, Fiber = %(fiber)i' % locals())\n",
      "\n",
      "plt.show()"
     ],
     "language": "python",
     "metadata": {},
     "outputs": [
      {
       "metadata": {},
       "output_type": "display_data",
       "png": "[encoded data removed]",
       "text": [
        "<matplotlib.figure.Figure at 0x1087d3ed0>"
       ]
      }
     ],
     "prompt_number": 51
    },
    {
     "cell_type": "heading",
     "level": 2,
     "metadata": {},
     "source": [
      "Figure 1.3 -- Color Magnitude Diagram for SDSS Spectroscopic Galaxies"
     ]
    },
    {
     "cell_type": "code",
     "collapsed": false,
     "input": [
      "# Author: Jake VanderPlas\n",
      "# License: BSD\n",
      "#   The figure produced by this code is published in the textbook\n",
      "#   \"Statistics, Data Mining, and Machine Learning in Astronomy\" (2013)\n",
      "#   For more information, see http://astroML.github.com\n",
      "#   To report a bug or issue, use the following forum:\n",
      "#    https://groups.google.com/forum/#!forum/astroml-general\n",
      "import numpy as np\n",
      "from matplotlib import pyplot as plt\n",
      "from astroML.datasets import fetch_sdss_specgals\n",
      "\n",
      "#----------------------------------------------------------------------\n",
      "# This function adjusts matplotlib settings for a uniform feel in the textbook.\n",
      "# Note that with usetex=True, fonts are rendered with LaTeX.  This may\n",
      "# result in an error if LaTeX is not installed on your system.  In that case,\n",
      "# you can set usetex to False.\n",
      "from astroML.plotting import setup_text_plots\n",
      "setup_text_plots(fontsize=18, usetex=True)\n",
      "\n",
      "#------------------------------------------------------------\n",
      "# Fetch spectroscopic galaxy data\n",
      "data = fetch_sdss_specgals()\n",
      "data = data[:10000]\n",
      "\n",
      "u = data['modelMag_u']\n",
      "r = data['modelMag_r']\n",
      "rPetro = data['petroMag_r']\n",
      "\n",
      "#------------------------------------------------------------\n",
      "# Plot the galaxy colors and magnitudes\n",
      "fig, ax = plt.subplots(figsize=(10, 7.5))\n",
      "ax.plot(u - r, rPetro, '.k', markersize=2)\n",
      "\n",
      "ax.set_xlim(1, 4.5)\n",
      "ax.set_ylim(18.1, 13.5)\n",
      "\n",
      "ax.set_xlabel(r'$\\mathrm{u - r}$')\n",
      "ax.set_ylabel(r'$\\mathrm{r_{petrosian}}$')\n",
      "\n",
      "plt.show()\n"
     ],
     "language": "python",
     "metadata": {},
     "outputs": [
      {
       "output_type": "stream",
       "stream": "stdout",
       "text": [
        "Downloading http://www.astro.washington.edu/users/ivezic/DMbook/data/SDSSspecgalsDR8.fit\n",
        "[=                                      ]  2.87Mb / 114.85Mb   \r"
       ]
      },
      {
       "output_type": "stream",
       "stream": "stdout",
       "text": [
        "[==                                     ]  5.74Mb / 114.85Mb   \r"
       ]
      },
      {
       "output_type": "stream",
       "stream": "stdout",
       "text": [
        "[===                                    ]  8.61Mb / 114.85Mb   \r"
       ]
      },
      {
       "output_type": "stream",
       "stream": "stdout",
       "text": [
        "[====                                   ]  11.49Mb / 114.85Mb   \r"
       ]
      },
      {
       "output_type": "stream",
       "stream": "stdout",
       "text": [
        "[=====                                  ]  14.36Mb / 114.85Mb   \r"
       ]
      },
      {
       "output_type": "stream",
       "stream": "stdout",
       "text": [
        "[======                                 ]  17.23Mb / 114.85Mb   \r"
       ]
      },
      {
       "output_type": "stream",
       "stream": "stdout",
       "text": [
        "[=======                                ]  20.10Mb / 114.85Mb   \r"
       ]
      },
      {
       "output_type": "stream",
       "stream": "stdout",
       "text": [
        "[========                               ]  22.97Mb / 114.85Mb   \r"
       ]
      },
      {
       "output_type": "stream",
       "stream": "stdout",
       "text": [
        "[=========                              ]  25.84Mb / 114.85Mb   \r"
       ]
      },
      {
       "output_type": "stream",
       "stream": "stdout",
       "text": [
        "[==========                             ]  28.71Mb / 114.85Mb   \r"
       ]
      },
      {
       "output_type": "stream",
       "stream": "stdout",
       "text": [
        "[===========                            ]  31.58Mb / 114.85Mb   \r"
       ]
      },
      {
       "output_type": "stream",
       "stream": "stdout",
       "text": [
        "[============                           ]  34.46Mb / 114.85Mb   \r"
       ]
      },
      {
       "output_type": "stream",
       "stream": "stdout",
       "text": [
        "[=============                          ]  37.33Mb / 114.85Mb   \r"
       ]
      },
      {
       "output_type": "stream",
       "stream": "stdout",
       "text": [
        "[==============                         ]  40.20Mb / 114.85Mb   \r"
       ]
      },
      {
       "output_type": "stream",
       "stream": "stdout",
       "text": [
        "[===============                        ]  43.07Mb / 114.85Mb   \r"
       ]
      },
      {
       "output_type": "stream",
       "stream": "stdout",
       "text": [
        "[================                       ]  45.94Mb / 114.85Mb   \r"
       ]
      },
      {
       "output_type": "stream",
       "stream": "stdout",
       "text": [
        "[=================                      ]  48.81Mb / 114.85Mb   \r"
       ]
      },
      {
       "output_type": "stream",
       "stream": "stdout",
       "text": [
        "[==================                     ]  51.68Mb / 114.85Mb   \r"
       ]
      },
      {
       "output_type": "stream",
       "stream": "stdout",
       "text": [
        "[===================                    ]  54.55Mb / 114.85Mb   \r"
       ]
      },
      {
       "output_type": "stream",
       "stream": "stdout",
       "text": [
        "[====================                   ]  57.43Mb / 114.85Mb   \r"
       ]
      },
      {
       "output_type": "stream",
       "stream": "stdout",
       "text": [
        "[=====================                  ]  60.30Mb / 114.85Mb   \r"
       ]
      },
      {
       "output_type": "stream",
       "stream": "stdout",
       "text": [
        "[======================                 ]  63.17Mb / 114.85Mb   \r"
       ]
      },
      {
       "output_type": "stream",
       "stream": "stdout",
       "text": [
        "[=======================                ]  66.04Mb / 114.85Mb   \r"
       ]
      },
      {
       "output_type": "stream",
       "stream": "stdout",
       "text": [
        "[========================               ]  68.91Mb / 114.85Mb   \r"
       ]
      },
      {
       "output_type": "stream",
       "stream": "stdout",
       "text": [
        "[=========================              ]  71.78Mb / 114.85Mb   \r"
       ]
      },
      {
       "output_type": "stream",
       "stream": "stdout",
       "text": [
        "[==========================             ]  74.65Mb / 114.85Mb   \r"
       ]
      },
      {
       "output_type": "stream",
       "stream": "stdout",
       "text": [
        "[===========================            ]  77.52Mb / 114.85Mb   \r"
       ]
      },
      {
       "output_type": "stream",
       "stream": "stdout",
       "text": [
        "[============================           ]  80.40Mb / 114.85Mb   \r"
       ]
      },
      {
       "output_type": "stream",
       "stream": "stdout",
       "text": [
        "[=============================          ]  83.27Mb / 114.85Mb   \r"
       ]
      },
      {
       "output_type": "stream",
       "stream": "stdout",
       "text": [
        "[==============================         ]  86.14Mb / 114.85Mb   \r"
       ]
      },
      {
       "output_type": "stream",
       "stream": "stdout",
       "text": [
        "[===============================        ]  89.01Mb / 114.85Mb   \r"
       ]
      },
      {
       "output_type": "stream",
       "stream": "stdout",
       "text": [
        "[================================       ]  91.88Mb / 114.85Mb   \r"
       ]
      },
      {
       "output_type": "stream",
       "stream": "stdout",
       "text": [
        "[=================================      ]  94.75Mb / 114.85Mb   \r"
       ]
      },
      {
       "output_type": "stream",
       "stream": "stdout",
       "text": [
        "[==================================     ]  97.62Mb / 114.85Mb   \r"
       ]
      },
      {
       "output_type": "stream",
       "stream": "stdout",
       "text": [
        "[===================================    ]  100.49Mb / 114.85Mb   \r"
       ]
      },
      {
       "output_type": "stream",
       "stream": "stdout",
       "text": [
        "[====================================   ]  103.37Mb / 114.85Mb   \r"
       ]
      },
      {
       "output_type": "stream",
       "stream": "stdout",
       "text": [
        "[=====================================  ]  106.24Mb / 114.85Mb   \r"
       ]
      },
      {
       "output_type": "stream",
       "stream": "stdout",
       "text": [
        "[====================================== ]  109.11Mb / 114.85Mb   \r"
       ]
      },
      {
       "output_type": "stream",
       "stream": "stdout",
       "text": [
        "[=======================================]  111.98Mb / 114.85Mb   \r"
       ]
      },
      {
       "output_type": "stream",
       "stream": "stdout",
       "text": [
        "[========================================]  114.85Mb / 114.85Mb   \r"
       ]
      },
      {
       "output_type": "stream",
       "stream": "stdout",
       "text": [
        "\n"
       ]
      },
      {
       "metadata": {},
       "output_type": "display_data",
       "png": "[encoded data removed]",
       "text": [
        "<matplotlib.figure.Figure at 0x108b29790>"
       ]
      }
     ],
     "prompt_number": 52
    },
    {
     "cell_type": "heading",
     "level": 2,
     "metadata": {},
     "source": [
      "Figure 1.7 -- LINEAR dataset"
     ]
    },
    {
     "cell_type": "code",
     "collapsed": false,
     "input": [
      "\"\"\"\n",
      "Phased LINEAR Light Curve\n",
      "-------------------------\n",
      "Figure1.7.\n",
      "\n",
      "An example of the type of data available in the LINEAR dataset.  The scatter\n",
      "plots show the g-r and r-i colors, and the variability period determined using\n",
      "a Lomb-Scargle periodogram (for details see chapter 10). The upper-right panel\n",
      "shows a phased light curve for one of the over 7000 objects.\n",
      "\"\"\"\n",
      "# Author: Jake VanderPlas\n",
      "# License: BSD\n",
      "#   The figure produced by this code is published in the textbook\n",
      "#   \"Statistics, Data Mining, and Machine Learning in Astronomy\" (2013)\n",
      "#   For more information, see http://astroML.github.com\n",
      "#   To report a bug or issue, use the following forum:\n",
      "#    https://groups.google.com/forum/#!forum/astroml-general\n",
      "import numpy as np\n",
      "from matplotlib import pyplot as plt\n",
      "from astroML.datasets import fetch_LINEAR_sample, fetch_LINEAR_geneva\n",
      "\n",
      "#----------------------------------------------------------------------\n",
      "# This function adjusts matplotlib settings for a uniform feel in the textbook.\n",
      "# Note that with usetex=True, fonts are rendered with LaTeX.  This may\n",
      "# result in an error if LaTeX is not installed on your system.  In that case,\n",
      "# you can set usetex to False.\n",
      "from astroML.plotting import setup_text_plots\n",
      "setup_text_plots(fontsize=8, usetex=True)\n",
      "\n",
      "#------------------------------------------------------------\n",
      "# Get data for the plot\n",
      "data = fetch_LINEAR_sample()\n",
      "geneva = fetch_LINEAR_geneva()  # contains well-measured periods\n",
      "\n",
      "# Compute the phased light curve for a single object.\n",
      "# the best-fit period in the file is not accurate enough\n",
      "# for light curve phasing.  The frequency below is\n",
      "# calculated using Lomb Scargle (see chapter10/fig_LINEAR_LS.py)\n",
      "id = 18525697\n",
      "omega = 10.82722481\n",
      "t, y, dy = data[id].T\n",
      "phase = (t * omega * 0.5 / np.pi + 0.1) % 1\n",
      "\n",
      "# Select colors, magnitudes, and periods from the global set\n",
      "targets = data.targets[data.targets['LP1'] < 2]\n",
      "r = targets['r']\n",
      "gr = targets['gr']\n",
      "ri = targets['ri']\n",
      "logP = targets['LP1']\n",
      "\n",
      "# Cross-match by ID with the geneva catalog to get more accurate periods\n",
      "targetIDs = map(lambda ID: str(ID).lstrip('0'), targets['objectID'])\n",
      "genevaIDs = map(lambda ID: str(ID).lstrip('0'), geneva['LINEARobjectID'])\n",
      "\n",
      "def safe_index(L, val):\n",
      "    try:\n",
      "        return L.index(val)\n",
      "    except ValueError:\n",
      "        return -1\n",
      "\n",
      "ind = np.array([safe_index(genevaIDs, ID) for ID in targetIDs])\n",
      "mask = (ind >= 0)\n",
      "\n",
      "logP = geneva['logP'][ind[mask]]\n",
      "r = r[mask]\n",
      "gr = gr[mask]\n",
      "ri = ri[mask]\n",
      "\n",
      "#------------------------------------------------------------\n",
      "# plot the results\n",
      "fig = plt.figure(figsize=(5, 5))\n",
      "fig.subplots_adjust(hspace=0.1, wspace=0.1,\n",
      "                    top=0.95, right=0.95)\n",
      "\n",
      "ax = fig.add_axes((0.64, 0.62, 0.3, 0.25))\n",
      "plt.errorbar(phase, y, dy, fmt='.', color='black', ecolor='gray',\n",
      "             lw=1, ms=4, capsize=1.5)\n",
      "plt.ylim(plt.ylim()[::-1])\n",
      "plt.xlabel('phase')\n",
      "plt.ylabel('magnitude')\n",
      "ax.yaxis.set_major_locator(plt.MultipleLocator(0.5))\n",
      "plt.title(\"Example of\\nphased light curve\")\n",
      "\n",
      "ax = fig.add_subplot(223)\n",
      "ax.plot(gr, ri, '.', color='black', markersize=2)\n",
      "ax.set_xlim(-0.3, 1.5)\n",
      "ax.set_ylim(-1.0, 1.5)\n",
      "ax.xaxis.set_major_locator(plt.MultipleLocator(1.0))\n",
      "ax.yaxis.set_major_locator(plt.MultipleLocator(1.0))\n",
      "ax.set_xlabel(r'${\\rm g-r}$')\n",
      "ax.set_ylabel(r'${\\rm r-i}$')\n",
      "\n",
      "ax = fig.add_subplot(221, yscale='log')\n",
      "ax.plot(gr, 10 ** logP, '.', color='black', markersize=2)\n",
      "ax.set_xlim(-0.3, 1.5)\n",
      "ax.set_ylim(3E-2, 1E1)\n",
      "ax.xaxis.set_major_locator(plt.MultipleLocator(1.0))\n",
      "ax.xaxis.set_major_formatter(plt.NullFormatter())\n",
      "ax.set_ylabel('Period (days)')\n",
      "\n",
      "ax = fig.add_subplot(224, xscale='log')\n",
      "ax.plot(10 ** logP, ri, '.', color='black', markersize=2)\n",
      "ax.set_xlim(3E-2, 1E1)\n",
      "ax.set_ylim(-1.0, 1.5)\n",
      "ax.yaxis.set_major_formatter(plt.NullFormatter())\n",
      "ax.yaxis.set_major_locator(plt.MultipleLocator(1.0))\n",
      "ax.set_xlabel('Period (days)')\n",
      "\n",
      "plt.show()"
     ],
     "language": "python",
     "metadata": {},
     "outputs": [
      {
       "output_type": "stream",
       "stream": "stdout",
       "text": [
        "Downloading http://www.astro.washington.edu/users/ivezic/linear/allDataFinal/allLINEARfinal_targets.dat\n",
        "[=                                      ]  25.0kb / 1001.2kb   \r"
       ]
      },
      {
       "output_type": "stream",
       "stream": "stdout",
       "text": [
        "[==                                     ]  50.1kb / 1001.2kb   \r"
       ]
      },
      {
       "output_type": "stream",
       "stream": "stdout",
       "text": [
        "[===                                    ]  75.1kb / 1001.2kb   \r"
       ]
      },
      {
       "output_type": "stream",
       "stream": "stdout",
       "text": [
        "[====                                   ]  100.1kb / 1001.2kb   \r"
       ]
      },
      {
       "output_type": "stream",
       "stream": "stdout",
       "text": [
        "[=====                                  ]  125.2kb / 1001.2kb   \r"
       ]
      },
      {
       "output_type": "stream",
       "stream": "stdout",
       "text": [
        "[======                                 ]  150.2kb / 1001.2kb   \r"
       ]
      },
      {
       "output_type": "stream",
       "stream": "stdout",
       "text": [
        "[=======                                ]  175.2kb / 1001.2kb   \r"
       ]
      },
      {
       "output_type": "stream",
       "stream": "stdout",
       "text": [
        "[========                               ]  200.2kb / 1001.2kb   \r"
       ]
      },
      {
       "output_type": "stream",
       "stream": "stdout",
       "text": [
        "[=========                              ]  225.3kb / 1001.2kb   \r"
       ]
      },
      {
       "output_type": "stream",
       "stream": "stdout",
       "text": [
        "[==========                             ]  250.3kb / 1001.2kb   \r"
       ]
      },
      {
       "output_type": "stream",
       "stream": "stdout",
       "text": [
        "[===========                            ]  275.3kb / 1001.2kb   \r"
       ]
      },
      {
       "output_type": "stream",
       "stream": "stdout",
       "text": [
        "[============                           ]  300.4kb / 1001.2kb   \r"
       ]
      },
      {
       "output_type": "stream",
       "stream": "stdout",
       "text": [
        "[=============                          ]  325.4kb / 1001.2kb   \r"
       ]
      },
      {
       "output_type": "stream",
       "stream": "stdout",
       "text": [
        "[==============                         ]  350.4kb / 1001.2kb   \r"
       ]
      },
      {
       "output_type": "stream",
       "stream": "stdout",
       "text": [
        "[===============                        ]  375.5kb / 1001.2kb   \r"
       ]
      },
      {
       "output_type": "stream",
       "stream": "stdout",
       "text": [
        "[================                       ]  400.5kb / 1001.2kb   \r"
       ]
      },
      {
       "output_type": "stream",
       "stream": "stdout",
       "text": [
        "[=================                      ]  425.5kb / 1001.2kb   \r"
       ]
      },
      {
       "output_type": "stream",
       "stream": "stdout",
       "text": [
        "[==================                     ]  450.5kb / 1001.2kb   \r"
       ]
      },
      {
       "output_type": "stream",
       "stream": "stdout",
       "text": [
        "[===================                    ]  475.6kb / 1001.2kb   \r"
       ]
      },
      {
       "output_type": "stream",
       "stream": "stdout",
       "text": [
        "[====================                   ]  500.6kb / 1001.2kb   \r"
       ]
      },
      {
       "output_type": "stream",
       "stream": "stdout",
       "text": [
        "[=====================                  ]  525.6kb / 1001.2kb   \r"
       ]
      },
      {
       "output_type": "stream",
       "stream": "stdout",
       "text": [
        "[======================                 ]  550.7kb / 1001.2kb   \r"
       ]
      },
      {
       "output_type": "stream",
       "stream": "stdout",
       "text": [
        "[=======================                ]  575.7kb / 1001.2kb   \r"
       ]
      },
      {
       "output_type": "stream",
       "stream": "stdout",
       "text": [
        "[========================               ]  600.7kb / 1001.2kb   \r"
       ]
      },
      {
       "output_type": "stream",
       "stream": "stdout",
       "text": [
        "[=========================              ]  625.8kb / 1001.2kb   \r"
       ]
      },
      {
       "output_type": "stream",
       "stream": "stdout",
       "text": [
        "[==========================             ]  650.8kb / 1001.2kb   \r"
       ]
      },
      {
       "output_type": "stream",
       "stream": "stdout",
       "text": [
        "[===========================            ]  675.8kb / 1001.2kb   \r"
       ]
      },
      {
       "output_type": "stream",
       "stream": "stdout",
       "text": [
        "[============================           ]  700.8kb / 1001.2kb   \r"
       ]
      },
      {
       "output_type": "stream",
       "stream": "stdout",
       "text": [
        "[=============================          ]  725.9kb / 1001.2kb   \r"
       ]
      },
      {
       "output_type": "stream",
       "stream": "stdout",
       "text": [
        "[==============================         ]  750.9kb / 1001.2kb   \r"
       ]
      },
      {
       "output_type": "stream",
       "stream": "stdout",
       "text": [
        "[===============================        ]  775.9kb / 1001.2kb   \r"
       ]
      },
      {
       "output_type": "stream",
       "stream": "stdout",
       "text": [
        "[================================       ]  801.0kb / 1001.2kb   \r"
       ]
      },
      {
       "output_type": "stream",
       "stream": "stdout",
       "text": [
        "[=================================      ]  826.0kb / 1001.2kb   \r"
       ]
      },
      {
       "output_type": "stream",
       "stream": "stdout",
       "text": [
        "[==================================     ]  851.0kb / 1001.2kb   \r"
       ]
      },
      {
       "output_type": "stream",
       "stream": "stdout",
       "text": [
        "[===================================    ]  876.1kb / 1001.2kb   \r"
       ]
      },
      {
       "output_type": "stream",
       "stream": "stdout",
       "text": [
        "[====================================   ]  901.1kb / 1001.2kb   \r"
       ]
      },
      {
       "output_type": "stream",
       "stream": "stdout",
       "text": [
        "[=====================================  ]  926.1kb / 1001.2kb   \r"
       ]
      },
      {
       "output_type": "stream",
       "stream": "stdout",
       "text": [
        "[====================================== ]  951.2kb / 1001.2kb   \r"
       ]
      },
      {
       "output_type": "stream",
       "stream": "stdout",
       "text": [
        "[=======================================]  976.2kb / 1001.2kb   \r"
       ]
      },
      {
       "output_type": "stream",
       "stream": "stdout",
       "text": [
        "[========================================]  1001.2kb / 1001.2kb   \r"
       ]
      },
      {
       "output_type": "stream",
       "stream": "stdout",
       "text": [
        "[=========================================]  1001.2kb / 1001.2kb   \r"
       ]
      },
      {
       "output_type": "stream",
       "stream": "stdout",
       "text": [
        "\n",
        "Downloading http://www.astro.washington.edu/users/ivezic/linear/allDataFinal/allLINEARfinal_dat.tar.gz"
       ]
      },
      {
       "output_type": "stream",
       "stream": "stdout",
       "text": [
        "\n",
        "[=                                      ]  410.9kb / 16.05Mb   \r"
       ]
      },
      {
       "output_type": "stream",
       "stream": "stdout",
       "text": [
        "[==                                     ]  821.9kb / 16.05Mb   \r"
       ]
      },
      {
       "output_type": "stream",
       "stream": "stdout",
       "text": [
        "[===                                    ]  1.20Mb / 16.05Mb   \r"
       ]
      },
      {
       "output_type": "stream",
       "stream": "stdout",
       "text": [
        "[====                                   ]  1.61Mb / 16.05Mb   \r"
       ]
      },
      {
       "output_type": "stream",
       "stream": "stdout",
       "text": [
        "[=====                                  ]  2.01Mb / 16.05Mb   \r"
       ]
      },
      {
       "output_type": "stream",
       "stream": "stdout",
       "text": [
        "[======                                 ]  2.41Mb / 16.05Mb   \r"
       ]
      },
      {
       "output_type": "stream",
       "stream": "stdout",
       "text": [
        "[=======                                ]  2.81Mb / 16.05Mb   \r"
       ]
      },
      {
       "output_type": "stream",
       "stream": "stdout",
       "text": [
        "[========                               ]  3.21Mb / 16.05Mb   \r"
       ]
      },
      {
       "output_type": "stream",
       "stream": "stdout",
       "text": [
        "[=========                              ]  3.61Mb / 16.05Mb   \r"
       ]
      },
      {
       "output_type": "stream",
       "stream": "stdout",
       "text": [
        "[==========                             ]  4.01Mb / 16.05Mb   \r"
       ]
      },
      {
       "output_type": "stream",
       "stream": "stdout",
       "text": [
        "[===========                            ]  4.41Mb / 16.05Mb   \r"
       ]
      },
      {
       "output_type": "stream",
       "stream": "stdout",
       "text": [
        "[============                           ]  4.82Mb / 16.05Mb   \r"
       ]
      },
      {
       "output_type": "stream",
       "stream": "stdout",
       "text": [
        "[=============                          ]  5.22Mb / 16.05Mb   \r"
       ]
      },
      {
       "output_type": "stream",
       "stream": "stdout",
       "text": [
        "[==============                         ]  5.62Mb / 16.05Mb   \r"
       ]
      },
      {
       "output_type": "stream",
       "stream": "stdout",
       "text": [
        "[===============                        ]  6.02Mb / 16.05Mb   \r"
       ]
      },
      {
       "output_type": "stream",
       "stream": "stdout",
       "text": [
        "[================                       ]  6.42Mb / 16.05Mb   \r"
       ]
      },
      {
       "output_type": "stream",
       "stream": "stdout",
       "text": [
        "[=================                      ]  6.82Mb / 16.05Mb   \r"
       ]
      },
      {
       "output_type": "stream",
       "stream": "stdout",
       "text": [
        "[==================                     ]  7.22Mb / 16.05Mb   \r"
       ]
      },
      {
       "output_type": "stream",
       "stream": "stdout",
       "text": [
        "[===================                    ]  7.62Mb / 16.05Mb   \r"
       ]
      },
      {
       "output_type": "stream",
       "stream": "stdout",
       "text": [
        "[====================                   ]  8.03Mb / 16.05Mb   \r"
       ]
      },
      {
       "output_type": "stream",
       "stream": "stdout",
       "text": [
        "[=====================                  ]  8.43Mb / 16.05Mb   \r"
       ]
      },
      {
       "output_type": "stream",
       "stream": "stdout",
       "text": [
        "[======================                 ]  8.83Mb / 16.05Mb   \r"
       ]
      },
      {
       "output_type": "stream",
       "stream": "stdout",
       "text": [
        "[=======================                ]  9.23Mb / 16.05Mb   \r"
       ]
      },
      {
       "output_type": "stream",
       "stream": "stdout",
       "text": [
        "[========================               ]  9.63Mb / 16.05Mb   \r"
       ]
      },
      {
       "output_type": "stream",
       "stream": "stdout",
       "text": [
        "[=========================              ]  10.03Mb / 16.05Mb   \r"
       ]
      },
      {
       "output_type": "stream",
       "stream": "stdout",
       "text": [
        "[==========================             ]  10.43Mb / 16.05Mb   \r"
       ]
      },
      {
       "output_type": "stream",
       "stream": "stdout",
       "text": [
        "[===========================            ]  10.84Mb / 16.05Mb   \r"
       ]
      },
      {
       "output_type": "stream",
       "stream": "stdout",
       "text": [
        "[============================           ]  11.24Mb / 16.05Mb   \r"
       ]
      },
      {
       "output_type": "stream",
       "stream": "stdout",
       "text": [
        "[=============================          ]  11.64Mb / 16.05Mb   \r"
       ]
      },
      {
       "output_type": "stream",
       "stream": "stdout",
       "text": [
        "[==============================         ]  12.04Mb / 16.05Mb   \r"
       ]
      },
      {
       "output_type": "stream",
       "stream": "stdout",
       "text": [
        "[===============================        ]  12.44Mb / 16.05Mb   \r"
       ]
      },
      {
       "output_type": "stream",
       "stream": "stdout",
       "text": [
        "[================================       ]  12.84Mb / 16.05Mb   \r"
       ]
      },
      {
       "output_type": "stream",
       "stream": "stdout",
       "text": [
        "[=================================      ]  13.24Mb / 16.05Mb   \r"
       ]
      },
      {
       "output_type": "stream",
       "stream": "stdout",
       "text": [
        "[==================================     ]  13.64Mb / 16.05Mb   \r"
       ]
      },
      {
       "output_type": "stream",
       "stream": "stdout",
       "text": [
        "[===================================    ]  14.05Mb / 16.05Mb   \r"
       ]
      },
      {
       "output_type": "stream",
       "stream": "stdout",
       "text": [
        "[====================================   ]  14.45Mb / 16.05Mb   \r"
       ]
      },
      {
       "output_type": "stream",
       "stream": "stdout",
       "text": [
        "[=====================================  ]  14.85Mb / 16.05Mb   \r"
       ]
      },
      {
       "output_type": "stream",
       "stream": "stdout",
       "text": [
        "[====================================== ]  15.25Mb / 16.05Mb   \r"
       ]
      },
      {
       "output_type": "stream",
       "stream": "stdout",
       "text": [
        "[=======================================]  15.65Mb / 16.05Mb   \r"
       ]
      },
      {
       "output_type": "stream",
       "stream": "stdout",
       "text": [
        "[========================================]  16.05Mb / 16.05Mb   \r"
       ]
      },
      {
       "output_type": "stream",
       "stream": "stdout",
       "text": [
        "[=========================================]  16.05Mb / 16.05Mb   \r"
       ]
      },
      {
       "output_type": "stream",
       "stream": "stdout",
       "text": [
        "\n",
        "Downloading http://www.astro.washington.edu/users/ivezic/DMbook/data/LINEARattributesFinalApr2013.dat"
       ]
      },
      {
       "output_type": "stream",
       "stream": "stdout",
       "text": [
        "\n",
        "[=                                      ]  19.4kb / 776.0kb   \r"
       ]
      },
      {
       "output_type": "stream",
       "stream": "stdout",
       "text": [
        "[==                                     ]  38.8kb / 776.0kb   \r"
       ]
      },
      {
       "output_type": "stream",
       "stream": "stdout",
       "text": [
        "[===                                    ]  58.2kb / 776.0kb   \r"
       ]
      },
      {
       "output_type": "stream",
       "stream": "stdout",
       "text": [
        "[====                                   ]  77.6kb / 776.0kb   \r"
       ]
      },
      {
       "output_type": "stream",
       "stream": "stdout",
       "text": [
        "[=====                                  ]  97.0kb / 776.0kb   \r"
       ]
      },
      {
       "output_type": "stream",
       "stream": "stdout",
       "text": [
        "[======                                 ]  116.4kb / 776.0kb   \r"
       ]
      },
      {
       "output_type": "stream",
       "stream": "stdout",
       "text": [
        "[=======                                ]  135.8kb / 776.0kb   \r"
       ]
      },
      {
       "output_type": "stream",
       "stream": "stdout",
       "text": [
        "[========                               ]  155.2kb / 776.0kb   \r"
       ]
      },
      {
       "output_type": "stream",
       "stream": "stdout",
       "text": [
        "[=========                              ]  174.6kb / 776.0kb   \r"
       ]
      },
      {
       "output_type": "stream",
       "stream": "stdout",
       "text": [
        "[==========                             ]  194.0kb / 776.0kb   \r"
       ]
      },
      {
       "output_type": "stream",
       "stream": "stdout",
       "text": [
        "[===========                            ]  213.4kb / 776.0kb   \r"
       ]
      },
      {
       "output_type": "stream",
       "stream": "stdout",
       "text": [
        "[============                           ]  232.8kb / 776.0kb   \r"
       ]
      },
      {
       "output_type": "stream",
       "stream": "stdout",
       "text": [
        "[=============                          ]  252.2kb / 776.0kb   \r"
       ]
      },
      {
       "output_type": "stream",
       "stream": "stdout",
       "text": [
        "[==============                         ]  271.6kb / 776.0kb   \r"
       ]
      },
      {
       "output_type": "stream",
       "stream": "stdout",
       "text": [
        "[===============                        ]  291.0kb / 776.0kb   \r"
       ]
      },
      {
       "output_type": "stream",
       "stream": "stdout",
       "text": [
        "[================                       ]  310.4kb / 776.0kb   \r"
       ]
      },
      {
       "output_type": "stream",
       "stream": "stdout",
       "text": [
        "[=================                      ]  329.8kb / 776.0kb   \r"
       ]
      },
      {
       "output_type": "stream",
       "stream": "stdout",
       "text": [
        "[==================                     ]  349.2kb / 776.0kb   \r"
       ]
      },
      {
       "output_type": "stream",
       "stream": "stdout",
       "text": [
        "[===================                    ]  368.6kb / 776.0kb   \r"
       ]
      },
      {
       "output_type": "stream",
       "stream": "stdout",
       "text": [
        "[====================                   ]  388.0kb / 776.0kb   \r"
       ]
      },
      {
       "output_type": "stream",
       "stream": "stdout",
       "text": [
        "[=====================                  ]  407.4kb / 776.0kb   \r"
       ]
      },
      {
       "output_type": "stream",
       "stream": "stdout",
       "text": [
        "[======================                 ]  426.8kb / 776.0kb   \r"
       ]
      },
      {
       "output_type": "stream",
       "stream": "stdout",
       "text": [
        "[=======================                ]  446.2kb / 776.0kb   \r"
       ]
      },
      {
       "output_type": "stream",
       "stream": "stdout",
       "text": [
        "[========================               ]  465.6kb / 776.0kb   \r"
       ]
      },
      {
       "output_type": "stream",
       "stream": "stdout",
       "text": [
        "[=========================              ]  485.0kb / 776.0kb   \r"
       ]
      },
      {
       "output_type": "stream",
       "stream": "stdout",
       "text": [
        "[==========================             ]  504.4kb / 776.0kb   \r"
       ]
      },
      {
       "output_type": "stream",
       "stream": "stdout",
       "text": [
        "[===========================            ]  523.8kb / 776.0kb   \r"
       ]
      },
      {
       "output_type": "stream",
       "stream": "stdout",
       "text": [
        "[============================           ]  543.2kb / 776.0kb   \r"
       ]
      },
      {
       "output_type": "stream",
       "stream": "stdout",
       "text": [
        "[=============================          ]  562.6kb / 776.0kb   \r"
       ]
      },
      {
       "output_type": "stream",
       "stream": "stdout",
       "text": [
        "[==============================         ]  582.0kb / 776.0kb   \r"
       ]
      },
      {
       "output_type": "stream",
       "stream": "stdout",
       "text": [
        "[===============================        ]  601.4kb / 776.0kb   \r"
       ]
      },
      {
       "output_type": "stream",
       "stream": "stdout",
       "text": [
        "[================================       ]  620.8kb / 776.0kb   \r"
       ]
      },
      {
       "output_type": "stream",
       "stream": "stdout",
       "text": [
        "[=================================      ]  640.1kb / 776.0kb   \r"
       ]
      },
      {
       "output_type": "stream",
       "stream": "stdout",
       "text": [
        "[==================================     ]  659.5kb / 776.0kb   \r"
       ]
      },
      {
       "output_type": "stream",
       "stream": "stdout",
       "text": [
        "[===================================    ]  678.9kb / 776.0kb   \r"
       ]
      },
      {
       "output_type": "stream",
       "stream": "stdout",
       "text": [
        "[====================================   ]  698.3kb / 776.0kb   \r"
       ]
      },
      {
       "output_type": "stream",
       "stream": "stdout",
       "text": [
        "[=====================================  ]  717.7kb / 776.0kb   \r"
       ]
      },
      {
       "output_type": "stream",
       "stream": "stdout",
       "text": [
        "[====================================== ]  737.1kb / 776.0kb   \r"
       ]
      },
      {
       "output_type": "stream",
       "stream": "stdout",
       "text": [
        "[=======================================]  756.5kb / 776.0kb   \r"
       ]
      },
      {
       "output_type": "stream",
       "stream": "stdout",
       "text": [
        "[========================================]  775.9kb / 776.0kb   \r"
       ]
      },
      {
       "output_type": "stream",
       "stream": "stdout",
       "text": [
        "[=========================================]  776.0kb / 776.0kb   \r"
       ]
      },
      {
       "output_type": "stream",
       "stream": "stdout",
       "text": [
        "\n"
       ]
      },
      {
       "metadata": {},
       "output_type": "display_data",
       "png": "[encoded data removed]",
       "text": [
        "<matplotlib.figure.Figure at 0x10fcf4ad0>"
       ]
      }
     ],
     "prompt_number": 53
    },
    {
     "cell_type": "heading",
     "level": 2,
     "metadata": {},
     "source": [
      "Figure 1.9 -- Scatter plot with contours over dense regions"
     ]
    },
    {
     "cell_type": "code",
     "collapsed": false,
     "input": [
      "\"\"\"\n",
      "SDSS Stripe 82 Standard Stars\n",
      "-----------------------------\n",
      "Figure 1.9.\n",
      "\n",
      "Scatter plot with contours over dense regions.This is a color-color diagram\n",
      "of the entire set of SDSS Stripe 82 standard stars; cf. figure 1.6.\n",
      "\"\"\"\n",
      "# Author: Jake VanderPlas\n",
      "# License: BSD\n",
      "#   The figure produced by this code is published in the textbook\n",
      "#   \"Statistics, Data Mining, and Machine Learning in Astronomy\" (2013)\n",
      "#   For more information, see http://astroML.github.com\n",
      "#   To report a bug or issue, use the following forum:\n",
      "#    https://groups.google.com/forum/#!forum/astroml-general\n",
      "from matplotlib import pyplot as plt\n",
      "\n",
      "from astroML.plotting import scatter_contour\n",
      "from astroML.datasets import fetch_sdss_S82standards\n",
      "\n",
      "#----------------------------------------------------------------------\n",
      "# This function adjusts matplotlib settings for a uniform feel in the textbook.\n",
      "# Note that with usetex=True, fonts are rendered with LaTeX.  This may\n",
      "# result in an error if LaTeX is not installed on your system.  In that case,\n",
      "# you can set usetex to False.\n",
      "from astroML.plotting import setup_text_plots\n",
      "setup_text_plots(fontsize=8, usetex=True)\n",
      "\n",
      "#------------------------------------------------------------\n",
      "# Fetch the Stripe 82 standard star catalog\n",
      "\n",
      "data = fetch_sdss_S82standards()\n",
      "\n",
      "g = data['mmu_g']\n",
      "r = data['mmu_r']\n",
      "i = data['mmu_i']\n",
      "\n",
      "#------------------------------------------------------------\n",
      "# plot the results\n",
      "fig, ax = plt.subplots(figsize=(5, 3.75))\n",
      "scatter_contour(g - r, r - i, threshold=200, log_counts=True, ax=ax,\n",
      "                histogram2d_args=dict(bins=40),\n",
      "                plot_args=dict(marker=',', linestyle='none', color='black'),\n",
      "                contour_args=dict(cmap=plt.cm.bone))\n",
      "\n",
      "ax.set_xlabel(r'${\\rm g - r}$')\n",
      "ax.set_ylabel(r'${\\rm r - i}$')\n",
      "\n",
      "ax.set_xlim(-0.6, 2.5)\n",
      "ax.set_ylim(-0.6, 2.5)\n",
      "\n",
      "plt.show()"
     ],
     "language": "python",
     "metadata": {},
     "outputs": [
      {
       "output_type": "stream",
       "stream": "stdout",
       "text": [
        "downloading cross-matched SDSS/2MASS dataset from http://www.astro.washington.edu/users/ivezic/sdss/catalogs/stripe82calibStars_v2.6.dat.gz to /Users/Adele/Astro/ASTROML/\n",
        "Downloading http://www.astro.washington.edu/users/ivezic/sdss/catalogs/stripe82calibStars_v2.6.dat.gz"
       ]
      },
      {
       "output_type": "stream",
       "stream": "stdout",
       "text": [
        "\n",
        "[=                                      ]  1.59Mb / 63.58Mb   \r"
       ]
      },
      {
       "output_type": "stream",
       "stream": "stdout",
       "text": [
        "[==                                     ]  3.18Mb / 63.58Mb   \r"
       ]
      },
      {
       "output_type": "stream",
       "stream": "stdout",
       "text": [
        "[===                                    ]  4.77Mb / 63.58Mb   \r"
       ]
      },
      {
       "output_type": "stream",
       "stream": "stdout",
       "text": [
        "[====                                   ]  6.36Mb / 63.58Mb   \r"
       ]
      },
      {
       "output_type": "stream",
       "stream": "stdout",
       "text": [
        "[=====                                  ]  7.95Mb / 63.58Mb   \r"
       ]
      },
      {
       "output_type": "stream",
       "stream": "stdout",
       "text": [
        "[======                                 ]  9.54Mb / 63.58Mb   \r"
       ]
      },
      {
       "output_type": "stream",
       "stream": "stdout",
       "text": [
        "[=======                                ]  11.13Mb / 63.58Mb   \r"
       ]
      },
      {
       "output_type": "stream",
       "stream": "stdout",
       "text": [
        "[========                               ]  12.72Mb / 63.58Mb   \r"
       ]
      },
      {
       "output_type": "stream",
       "stream": "stdout",
       "text": [
        "[=========                              ]  14.31Mb / 63.58Mb   \r"
       ]
      },
      {
       "output_type": "stream",
       "stream": "stdout",
       "text": [
        "[==========                             ]  15.89Mb / 63.58Mb   \r"
       ]
      },
      {
       "output_type": "stream",
       "stream": "stdout",
       "text": [
        "[===========                            ]  17.48Mb / 63.58Mb   \r"
       ]
      },
      {
       "output_type": "stream",
       "stream": "stdout",
       "text": [
        "[============                           ]  19.07Mb / 63.58Mb   \r"
       ]
      },
      {
       "output_type": "stream",
       "stream": "stdout",
       "text": [
        "[=============                          ]  20.66Mb / 63.58Mb   \r"
       ]
      },
      {
       "output_type": "stream",
       "stream": "stdout",
       "text": [
        "[==============                         ]  22.25Mb / 63.58Mb   \r"
       ]
      },
      {
       "output_type": "stream",
       "stream": "stdout",
       "text": [
        "[===============                        ]  23.84Mb / 63.58Mb   \r"
       ]
      },
      {
       "output_type": "stream",
       "stream": "stdout",
       "text": [
        "[================                       ]  25.43Mb / 63.58Mb   \r"
       ]
      },
      {
       "output_type": "stream",
       "stream": "stdout",
       "text": [
        "[=================                      ]  27.02Mb / 63.58Mb   \r"
       ]
      },
      {
       "output_type": "stream",
       "stream": "stdout",
       "text": [
        "[==================                     ]  28.61Mb / 63.58Mb   \r"
       ]
      },
      {
       "output_type": "stream",
       "stream": "stdout",
       "text": [
        "[===================                    ]  30.20Mb / 63.58Mb   \r"
       ]
      },
      {
       "output_type": "stream",
       "stream": "stdout",
       "text": [
        "[====================                   ]  31.79Mb / 63.58Mb   \r"
       ]
      },
      {
       "output_type": "stream",
       "stream": "stdout",
       "text": [
        "[=====================                  ]  33.38Mb / 63.58Mb   \r"
       ]
      },
      {
       "output_type": "stream",
       "stream": "stdout",
       "text": [
        "[======================                 ]  34.97Mb / 63.58Mb   \r"
       ]
      },
      {
       "output_type": "stream",
       "stream": "stdout",
       "text": [
        "[=======================                ]  36.56Mb / 63.58Mb   \r"
       ]
      },
      {
       "output_type": "stream",
       "stream": "stdout",
       "text": [
        "[========================               ]  38.15Mb / 63.58Mb   \r"
       ]
      },
      {
       "output_type": "stream",
       "stream": "stdout",
       "text": [
        "[=========================              ]  39.74Mb / 63.58Mb   \r"
       ]
      },
      {
       "output_type": "stream",
       "stream": "stdout",
       "text": [
        "[==========================             ]  41.33Mb / 63.58Mb   \r"
       ]
      },
      {
       "output_type": "stream",
       "stream": "stdout",
       "text": [
        "[===========================            ]  42.92Mb / 63.58Mb   \r"
       ]
      },
      {
       "output_type": "stream",
       "stream": "stdout",
       "text": [
        "[============================           ]  44.51Mb / 63.58Mb   \r"
       ]
      },
      {
       "output_type": "stream",
       "stream": "stdout",
       "text": [
        "[=============================          ]  46.10Mb / 63.58Mb   \r"
       ]
      },
      {
       "output_type": "stream",
       "stream": "stdout",
       "text": [
        "[==============================         ]  47.68Mb / 63.58Mb   \r"
       ]
      },
      {
       "output_type": "stream",
       "stream": "stdout",
       "text": [
        "[===============================        ]  49.27Mb / 63.58Mb   \r"
       ]
      },
      {
       "output_type": "stream",
       "stream": "stdout",
       "text": [
        "[================================       ]  50.86Mb / 63.58Mb   \r"
       ]
      },
      {
       "output_type": "stream",
       "stream": "stdout",
       "text": [
        "[=================================      ]  52.45Mb / 63.58Mb   \r"
       ]
      },
      {
       "output_type": "stream",
       "stream": "stdout",
       "text": [
        "[==================================     ]  54.04Mb / 63.58Mb   \r"
       ]
      },
      {
       "output_type": "stream",
       "stream": "stdout",
       "text": [
        "[===================================    ]  55.63Mb / 63.58Mb   \r"
       ]
      },
      {
       "output_type": "stream",
       "stream": "stdout",
       "text": [
        "[====================================   ]  57.22Mb / 63.58Mb   \r"
       ]
      },
      {
       "output_type": "stream",
       "stream": "stdout",
       "text": [
        "[=====================================  ]  58.81Mb / 63.58Mb   \r"
       ]
      },
      {
       "output_type": "stream",
       "stream": "stdout",
       "text": [
        "[====================================== ]  60.40Mb / 63.58Mb   \r"
       ]
      },
      {
       "output_type": "stream",
       "stream": "stdout",
       "text": [
        "[=======================================]  61.99Mb / 63.58Mb   \r"
       ]
      },
      {
       "output_type": "stream",
       "stream": "stdout",
       "text": [
        "[========================================]  63.58Mb / 63.58Mb   \r"
       ]
      },
      {
       "output_type": "stream",
       "stream": "stdout",
       "text": [
        "[=========================================]  63.58Mb / 63.58Mb   \r"
       ]
      },
      {
       "output_type": "stream",
       "stream": "stdout",
       "text": [
        "\n",
        "uncompressing file...\n"
       ]
      },
      {
       "metadata": {},
       "output_type": "display_data",
       "png": "[encoded data removed]",
       "text": [
        "<matplotlib.figure.Figure at 0x108796450>"
       ]
      }
     ],
     "prompt_number": 54
    },
    {
     "cell_type": "heading",
     "level": 2,
     "metadata": {},
     "source": [
      "Figure 1.10 -- Hess Diagram"
     ]
    },
    {
     "cell_type": "code",
     "collapsed": false,
     "input": [
      "\"\"\"\n",
      "SDSS Stripe 82 Hess Diagram\n",
      "---------------------------\n",
      "Figure 1.10.\n",
      "\n",
      "A Hess diagram of the r-i vs. g-r colors for the entire set of SDSS Stripe 82\n",
      "standard stars. The pixels are colored with a logarithmic scaling;\n",
      "cf. figures 1.6 and 1.9.\n",
      "\"\"\"\n",
      "# Author: Jake VanderPlas\n",
      "# License: BSD\n",
      "#   The figure produced by this code is published in the textbook\n",
      "#   \"Statistics, Data Mining, and Machine Learning in Astronomy\" (2013)\n",
      "#   For more information, see http://astroML.github.com\n",
      "#   To report a bug or issue, use the following forum:\n",
      "#    https://groups.google.com/forum/#!forum/astroml-general\n",
      "import numpy as np\n",
      "from matplotlib import pyplot as plt\n",
      "\n",
      "from astroML.datasets import fetch_sdss_S82standards\n",
      "\n",
      "#----------------------------------------------------------------------\n",
      "# This function adjusts matplotlib settings for a uniform feel in the textbook.\n",
      "# Note that with usetex=True, fonts are rendered with LaTeX.  This may\n",
      "# result in an error if LaTeX is not installed on your system.  In that case,\n",
      "# you can set usetex to False.\n",
      "from astroML.plotting import setup_text_plots\n",
      "setup_text_plots(fontsize=8, usetex=True)\n",
      "\n",
      "#------------------------------------------------------------\n",
      "# Fetch the stripe 82 data\n",
      "data = fetch_sdss_S82standards()\n",
      "\n",
      "g = data['mmu_g']\n",
      "r = data['mmu_r']\n",
      "i = data['mmu_i']\n",
      "\n",
      "#------------------------------------------------------------\n",
      "# Compute and plot the 2D histogram\n",
      "H, xbins, ybins = np.histogram2d(g - r, r - i,\n",
      "                                 bins=(np.linspace(-0.5, 2.5, 50),\n",
      "                                       np.linspace(-0.5, 2.5, 50)))\n",
      "\n",
      "# Create a black and white color map where bad data (NaNs) are white\n",
      "cmap = plt.cm.binary\n",
      "cmap.set_bad('w', 1.)\n",
      "\n",
      "# Use the image display function imshow() to plot the result\n",
      "fig, ax = plt.subplots(figsize=(5, 3.75))\n",
      "H[H == 0] = 1  # prevent warnings in log10\n",
      "ax.imshow(np.log10(H).T, origin='lower',\n",
      "          extent=[xbins[0], xbins[-1], ybins[0], ybins[-1]],\n",
      "          cmap=cmap, interpolation='nearest',\n",
      "          aspect='auto')\n",
      "\n",
      "ax.set_xlabel(r'${\\rm g - r}$')\n",
      "ax.set_ylabel(r'${\\rm r - i}$')\n",
      "\n",
      "ax.set_xlim(-0.6, 2.5)\n",
      "ax.set_ylim(-0.6, 2.5)\n",
      "\n",
      "plt.show()"
     ],
     "language": "python",
     "metadata": {},
     "outputs": [
      {
       "metadata": {},
       "output_type": "display_data",
       "png": "[encoded data removed]",
       "text": [
        "<matplotlib.figure.Figure at 0x1087d4190>"
       ]
      }
     ],
     "prompt_number": 55
    },
    {
     "cell_type": "heading",
     "level": 2,
     "metadata": {},
     "source": [
      "Figure 1.11 -- More complex Hess Diagram, with color"
     ]
    },
    {
     "cell_type": "code",
     "collapsed": false,
     "input": [
      "\"\"\"\n",
      "Stellar Parameters Hess Diagram\n",
      "-------------------------------\n",
      "Figure 1.11.\n",
      "\n",
      "A Hess diagram of the number per pixel (left) and [Fe/H] metallicity (center,\n",
      "right) of SEGUE Stellar Parameters Pipeline stars. In the center and right\n",
      "panels, contours representing the number density are overplotted for\n",
      "comparison. These two panels show identical data, but compare a grayscale\n",
      "and multicolor plotting scheme. This is an example of a situation in which\n",
      "multiple colors are very helpful in distinguishing close metallicity levels.\n",
      "This is the same data as shown in figure 1.5.\n",
      "\"\"\"\n",
      "# Author: Jake VanderPlas\n",
      "# License: BSD\n",
      "#   The figure produced by this code is published in the textbook\n",
      "#   \"Statistics, Data Mining, and Machine Learning in Astronomy\" (2013)\n",
      "#   For more information, see http://astroML.github.com\n",
      "#   To report a bug or issue, use the following forum:\n",
      "#    https://groups.google.com/forum/#!forum/astroml-general\n",
      "import numpy as np\n",
      "from matplotlib import pyplot as plt\n",
      "\n",
      "#----------------------------------------------------------------------\n",
      "# This function adjusts matplotlib settings for a uniform feel in the textbook.\n",
      "# Note that with usetex=True, fonts are rendered with LaTeX.  This may\n",
      "# result in an error if LaTeX is not installed on your system.  In that case,\n",
      "# you can set usetex to False.\n",
      "from astroML.plotting import setup_text_plots\n",
      "setup_text_plots(fontsize=8, usetex=True)\n",
      "\n",
      "#------------------------------------------------------------\n",
      "# Get SDSS SSPP data\n",
      "from astroML.datasets import fetch_sdss_sspp\n",
      "data = fetch_sdss_sspp()\n",
      "\n",
      "# do some reasonable magnitude cuts\n",
      "rpsf = data['rpsf']\n",
      "data = data[(rpsf > 15) & (rpsf < 19)]\n",
      "\n",
      "# get the desired data\n",
      "logg = data['logg']\n",
      "Teff = data['Teff']\n",
      "FeH = data['FeH']\n",
      "\n",
      "#------------------------------------------------------------\n",
      "# Plot the results using the binned_statistic function\n",
      "from astroML.stats import binned_statistic_2d\n",
      "N, xedges, yedges = binned_statistic_2d(Teff, logg, FeH,\n",
      "                                        'count', bins=100)\n",
      "FeH_mean, xedges, yedges = binned_statistic_2d(Teff, logg, FeH,\n",
      "                                               'mean', bins=100)\n",
      "\n",
      "# Define custom colormaps: Set pixels with no sources to white\n",
      "cmap = plt.cm.copper\n",
      "cmap.set_bad('w', 1.)\n",
      "\n",
      "cmap_multicolor = plt.cm.jet\n",
      "cmap_multicolor.set_bad('w', 1.)\n",
      "\n",
      "# Create figure and subplots\n",
      "fig = plt.figure(figsize=(5, 2))\n",
      "fig.subplots_adjust(wspace=0.22, left=0.1, right=0.95,\n",
      "                    bottom=0.12, top=0.95)\n",
      "\n",
      "#--------------------\n",
      "# First axes:\n",
      "ax = plt.subplot(131, xticks=[4000, 5000, 6000, 7000, 8000])\n",
      "plt.imshow(np.log10(N.T), origin='lower',\n",
      "           extent=[xedges[0], xedges[-1], yedges[0], yedges[-1]],\n",
      "           aspect='auto', interpolation='nearest', cmap=cmap)\n",
      "plt.xlim(xedges[-1], xedges[0])\n",
      "plt.ylim(yedges[-1], yedges[0])\n",
      "plt.xlabel(r'$\\mathrm{T_{eff}}$')\n",
      "plt.ylabel(r'$\\mathrm{log(g)}$')\n",
      "\n",
      "cb = plt.colorbar(ticks=[0, 1, 2, 3], pad=0.2,\n",
      "                  format=r'$10^{%i}$', orientation='horizontal')\n",
      "cb.set_label(r'$\\mathrm{number\\ in\\ pixel}$')\n",
      "plt.clim(0, 3)\n",
      "\n",
      "#--------------------\n",
      "# Second axes:\n",
      "ax = plt.subplot(132, xticks=[4000, 5000, 6000, 7000, 8000])\n",
      "plt.imshow(FeH_mean.T, origin='lower',\n",
      "           extent=[xedges[0], xedges[-1], yedges[0], yedges[-1]],\n",
      "           aspect='auto', interpolation='nearest', cmap=cmap)\n",
      "plt.xlim(xedges[-1], xedges[0])\n",
      "plt.ylim(yedges[-1], yedges[0])\n",
      "plt.xlabel(r'$\\mathrm{T_{eff}}$')\n",
      "\n",
      "cb = plt.colorbar(ticks=np.arange(-2.5, 1, 1), pad=0.2,\n",
      "                  format=r'$%.1f$', orientation='horizontal')\n",
      "cb.set_label(r'$\\mathrm{mean\\ [Fe/H]\\ in\\ pixel}$')\n",
      "plt.clim(-2.5, 0.5)\n",
      "\n",
      "# Draw density contours over the colors\n",
      "levels = np.linspace(0, np.log10(N.max()), 7)[2:]\n",
      "plt.contour(np.log10(N.T), levels, colors='k',\n",
      "            extent=[xedges[0], xedges[-1], yedges[0], yedges[-1]])\n",
      "\n",
      "#--------------------\n",
      "# Third axes:\n",
      "ax = plt.subplot(133, xticks=[4000, 5000, 6000, 7000, 8000])\n",
      "plt.imshow(FeH_mean.T, origin='lower',\n",
      "           extent=[xedges[0], xedges[-1], yedges[0], yedges[-1]],\n",
      "           aspect='auto', interpolation='nearest', cmap=cmap_multicolor)\n",
      "plt.xlim(xedges[-1], xedges[0])\n",
      "plt.ylim(yedges[-1], yedges[0])\n",
      "plt.xlabel(r'$\\mathrm{T_{eff}}$')\n",
      "\n",
      "cb = plt.colorbar(ticks=np.arange(-2.5, 1, 1), pad=0.2,\n",
      "                  format=r'$%.1f$', orientation='horizontal')\n",
      "cb.set_label(r'$\\mathrm{mean\\ [Fe/H]\\ in\\ pixel}$')\n",
      "plt.clim(-2.5, 0.5)\n",
      "\n",
      "# Draw density contours over the colors\n",
      "levels = np.linspace(0, np.log10(N.max()), 7)[2:]\n",
      "plt.contour(np.log10(N.T), levels, colors='k',\n",
      "            extent=[xedges[0], xedges[-1], yedges[0], yedges[-1]])\n",
      "\n",
      "plt.show()"
     ],
     "language": "python",
     "metadata": {},
     "outputs": [
      {
       "output_type": "stream",
       "stream": "stdout",
       "text": [
        "Downloading http://www.astro.washington.edu/users/ivezic/DMbook/data/SDSSssppDR9_rerun122.fit\n",
        "[=                                      ]  959.0kb / 37.46Mb   \r"
       ]
      },
      {
       "output_type": "stream",
       "stream": "stdout",
       "text": [
        "[==                                     ]  1.87Mb / 37.46Mb   \r"
       ]
      },
      {
       "output_type": "stream",
       "stream": "stdout",
       "text": [
        "[===                                    ]  2.81Mb / 37.46Mb   \r"
       ]
      },
      {
       "output_type": "stream",
       "stream": "stdout",
       "text": [
        "[====                                   ]  3.75Mb / 37.46Mb   \r"
       ]
      },
      {
       "output_type": "stream",
       "stream": "stdout",
       "text": [
        "[=====                                  ]  4.68Mb / 37.46Mb   \r"
       ]
      },
      {
       "output_type": "stream",
       "stream": "stdout",
       "text": [
        "[======                                 ]  5.62Mb / 37.46Mb   \r"
       ]
      },
      {
       "output_type": "stream",
       "stream": "stdout",
       "text": [
        "[=======                                ]  6.56Mb / 37.46Mb   \r"
       ]
      },
      {
       "output_type": "stream",
       "stream": "stdout",
       "text": [
        "[========                               ]  7.49Mb / 37.46Mb   \r"
       ]
      },
      {
       "output_type": "stream",
       "stream": "stdout",
       "text": [
        "[=========                              ]  8.43Mb / 37.46Mb   \r"
       ]
      },
      {
       "output_type": "stream",
       "stream": "stdout",
       "text": [
        "[==========                             ]  9.37Mb / 37.46Mb   \r"
       ]
      },
      {
       "output_type": "stream",
       "stream": "stdout",
       "text": [
        "[===========                            ]  10.30Mb / 37.46Mb   \r"
       ]
      },
      {
       "output_type": "stream",
       "stream": "stdout",
       "text": [
        "[============                           ]  11.24Mb / 37.46Mb   \r"
       ]
      },
      {
       "output_type": "stream",
       "stream": "stdout",
       "text": [
        "[=============                          ]  12.17Mb / 37.46Mb   \r"
       ]
      },
      {
       "output_type": "stream",
       "stream": "stdout",
       "text": [
        "[==============                         ]  13.11Mb / 37.46Mb   \r"
       ]
      },
      {
       "output_type": "stream",
       "stream": "stdout",
       "text": [
        "[===============                        ]  14.05Mb / 37.46Mb   \r"
       ]
      },
      {
       "output_type": "stream",
       "stream": "stdout",
       "text": [
        "[================                       ]  14.98Mb / 37.46Mb   \r"
       ]
      },
      {
       "output_type": "stream",
       "stream": "stdout",
       "text": [
        "[=================                      ]  15.92Mb / 37.46Mb   \r"
       ]
      },
      {
       "output_type": "stream",
       "stream": "stdout",
       "text": [
        "[==================                     ]  16.86Mb / 37.46Mb   \r"
       ]
      },
      {
       "output_type": "stream",
       "stream": "stdout",
       "text": [
        "[===================                    ]  17.79Mb / 37.46Mb   \r"
       ]
      },
      {
       "output_type": "stream",
       "stream": "stdout",
       "text": [
        "[====================                   ]  18.73Mb / 37.46Mb   \r"
       ]
      },
      {
       "output_type": "stream",
       "stream": "stdout",
       "text": [
        "[=====================                  ]  19.67Mb / 37.46Mb   \r"
       ]
      },
      {
       "output_type": "stream",
       "stream": "stdout",
       "text": [
        "[======================                 ]  20.60Mb / 37.46Mb   \r"
       ]
      },
      {
       "output_type": "stream",
       "stream": "stdout",
       "text": [
        "[=======================                ]  21.54Mb / 37.46Mb   \r"
       ]
      },
      {
       "output_type": "stream",
       "stream": "stdout",
       "text": [
        "[========================               ]  22.48Mb / 37.46Mb   \r"
       ]
      },
      {
       "output_type": "stream",
       "stream": "stdout",
       "text": [
        "[=========================              ]  23.41Mb / 37.46Mb   \r"
       ]
      },
      {
       "output_type": "stream",
       "stream": "stdout",
       "text": [
        "[==========================             ]  24.35Mb / 37.46Mb   \r"
       ]
      },
      {
       "output_type": "stream",
       "stream": "stdout",
       "text": [
        "[===========================            ]  25.29Mb / 37.46Mb   \r"
       ]
      },
      {
       "output_type": "stream",
       "stream": "stdout",
       "text": [
        "[============================           ]  26.22Mb / 37.46Mb   \r"
       ]
      },
      {
       "output_type": "stream",
       "stream": "stdout",
       "text": [
        "[=============================          ]  27.16Mb / 37.46Mb   \r"
       ]
      },
      {
       "output_type": "stream",
       "stream": "stdout",
       "text": [
        "[==============================         ]  28.10Mb / 37.46Mb   \r"
       ]
      },
      {
       "output_type": "stream",
       "stream": "stdout",
       "text": [
        "[===============================        ]  29.03Mb / 37.46Mb   \r"
       ]
      },
      {
       "output_type": "stream",
       "stream": "stdout",
       "text": [
        "[================================       ]  29.97Mb / 37.46Mb   \r"
       ]
      },
      {
       "output_type": "stream",
       "stream": "stdout",
       "text": [
        "[=================================      ]  30.91Mb / 37.46Mb   \r"
       ]
      },
      {
       "output_type": "stream",
       "stream": "stdout",
       "text": [
        "[==================================     ]  31.84Mb / 37.46Mb   \r"
       ]
      },
      {
       "output_type": "stream",
       "stream": "stdout",
       "text": [
        "[===================================    ]  32.78Mb / 37.46Mb   \r"
       ]
      },
      {
       "output_type": "stream",
       "stream": "stdout",
       "text": [
        "[====================================   ]  33.71Mb / 37.46Mb   \r"
       ]
      },
      {
       "output_type": "stream",
       "stream": "stdout",
       "text": [
        "[=====================================  ]  34.65Mb / 37.46Mb   \r"
       ]
      },
      {
       "output_type": "stream",
       "stream": "stdout",
       "text": [
        "[====================================== ]  35.59Mb / 37.46Mb   \r"
       ]
      },
      {
       "output_type": "stream",
       "stream": "stdout",
       "text": [
        "[=======================================]  36.52Mb / 37.46Mb   \r"
       ]
      },
      {
       "output_type": "stream",
       "stream": "stdout",
       "text": [
        "[========================================]  37.46Mb / 37.46Mb   \r"
       ]
      },
      {
       "output_type": "stream",
       "stream": "stderr",
       "text": [
        "/Users/Adele/anaconda/lib/python2.7/site-packages/astroML/stats/_binned_statistic.py:323: RuntimeWarning: invalid value encountered in divide\n",
        "  result[a] /= flatcount\n",
        "-c:69: RuntimeWarning: divide by zero encountered in log10\n",
        "-c:99: RuntimeWarning: divide by zero encountered in log10\n"
       ]
      },
      {
       "output_type": "stream",
       "stream": "stdout",
       "text": [
        "\n"
       ]
      },
      {
       "output_type": "stream",
       "stream": "stderr",
       "text": [
        "-c:119: RuntimeWarning: divide by zero encountered in log10\n"
       ]
      },
      {
       "metadata": {},
       "output_type": "display_data",
       "png": "[encoded data removed]",
       "text": [
        "<matplotlib.figure.Figure at 0x1087db510>"
       ]
      }
     ],
     "prompt_number": 56
    },
    {
     "cell_type": "heading",
     "level": 2,
     "metadata": {},
     "source": [
      "Figure 1.13 -- Mercator Projection (good geometry stuff)"
     ]
    },
    {
     "cell_type": "code",
     "collapsed": false,
     "input": [
      "\"\"\"\n",
      "Mercator Projection\n",
      "-------------------\n",
      "Figure1.13.\n",
      "\n",
      "The Mercator projection. Shown are the projections of circles of constant\n",
      "radius 10 degrees across the sky. Note that the area is not preserved by the\n",
      "Mercator projection: the projection increases the size of finite regions on\n",
      "the sphere, with a magnitude which increases at high latitudes.\n",
      "\"\"\"\n",
      "# Author: Jake VanderPlas\n",
      "# License: BSD\n",
      "#   The figure produced by this code is published in the textbook\n",
      "#   \"Statistics, Data Mining, and Machine Learning in Astronomy\" (2013)\n",
      "#   For more information, see http://astroML.github.com\n",
      "#   To report a bug or issue, use the following forum:\n",
      "#    https://groups.google.com/forum/#!forum/astroml-general\n",
      "import numpy as np\n",
      "from matplotlib import pyplot as plt\n",
      "from astroML.plotting import plot_tissot_ellipse\n",
      "\n",
      "#----------------------------------------------------------------------\n",
      "# This function adjusts matplotlib settings for a uniform feel in the textbook.\n",
      "# Note that with usetex=True, fonts are rendered with LaTeX.  This may\n",
      "# result in an error if LaTeX is not installed on your system.  In that case,\n",
      "# you can set usetex to False.\n",
      "from astroML.plotting import setup_text_plots\n",
      "setup_text_plots(fontsize=8, usetex=True)\n",
      "\n",
      "\n",
      "#------------------------------------------------------------\n",
      "# generate a latitude/longitude grid\n",
      "circ_long = np.linspace(-np.pi, np.pi, 13)[1:-1]\n",
      "circ_lat = np.linspace(-np.pi / 2, np.pi / 2, 7)[1:-1]\n",
      "radius = 10 * np.pi / 180.\n",
      "\n",
      "\n",
      "\n",
      "#------------------------------------------------------------\n",
      "# plot Mercator projection: we need to set this up manually\n",
      "def mercator_axes():\n",
      "    ax = plt.axes(aspect=1.0)\n",
      "    ax.set_xticks(np.pi / 6 * np.linspace(-5, 5, 11))\n",
      "    ax.set_yticks(np.pi / 12 * np.linspace(-5, 5, 11))\n",
      "    for axy in (ax.xaxis, ax.yaxis):\n",
      "        axy.set_major_formatter(plt.FuncFormatter(lambda s, a: r'$%i^\\circ$'\n",
      "                                                  % np.round(s * 180 / np.pi)))\n",
      "    ax.set_xlim(-np.pi, np.pi)\n",
      "    ax.set_ylim(-np.pi / 2, np.pi / 2)\n",
      "\n",
      "    return ax\n",
      "\n",
      "plt.figure(figsize=(5, 3.75))\n",
      "ax = mercator_axes()\n",
      "ax.grid(True)\n",
      "plot_tissot_ellipse(circ_long[:, None], circ_lat, radius,\n",
      "                    ax=ax, fc='k', alpha=0.3, lw=0)\n",
      "ax.set_title('Mercator projection')\n",
      "\n",
      "plt.show()"
     ],
     "language": "python",
     "metadata": {},
     "outputs": [
      {
       "metadata": {},
       "output_type": "display_data",
       "png": "[encoded data removed]",
       "text": [
        "<matplotlib.figure.Figure at 0x10ff65f50>"
       ]
      }
     ],
     "prompt_number": 57
    },
    {
     "cell_type": "heading",
     "level": 2,
     "metadata": {},
     "source": [
      "Figure 1.14 -- Other projections"
     ]
    },
    {
     "cell_type": "code",
     "collapsed": false,
     "input": [
      "\"\"\"\n",
      "Spherical Projections\n",
      "---------------------\n",
      "Figure 1.14.\n",
      "\n",
      "Four common full-sky projections. The shaded ellipses represent the distortion\n",
      "across the sky: each is projected from a circle of radius 10 degrees on the\n",
      "sphere. The extent to which these are distorted and/or magnified shows the\n",
      "distortion inherent to the mapping.\n",
      "\"\"\"\n",
      "# Author: Jake VanderPlas\n",
      "# License: BSD\n",
      "#   The figure produced by this code is published in the textbook\n",
      "#   \"Statistics, Data Mining, and Machine Learning in Astronomy\" (2013)\n",
      "#   For more information, see http://astroML.github.com\n",
      "#   To report a bug or issue, use the following forum:\n",
      "#    https://groups.google.com/forum/#!forum/astroml-general\n",
      "import numpy as np\n",
      "from matplotlib import pyplot as plt\n",
      "from astroML.plotting import plot_tissot_ellipse\n",
      "\n",
      "import warnings\n",
      "warnings.filterwarnings(\"ignore\")\n",
      "\n",
      "#----------------------------------------------------------------------\n",
      "# This function adjusts matplotlib settings for a uniform feel in the textbook.\n",
      "# Note that with usetex=True, fonts are rendered with LaTeX.  This may\n",
      "# result in an error if LaTeX is not installed on your system.  In that case,\n",
      "# you can set usetex to False.\n",
      "from astroML.plotting import setup_text_plots\n",
      "setup_text_plots(fontsize=8, usetex=True)\n",
      "\n",
      "#------------------------------------------------------------\n",
      "# generate a latitude/longitude grid\n",
      "circ_long = np.linspace(-np.pi, np.pi, 13)[1:-1]\n",
      "circ_lat = np.linspace(-np.pi / 2, np.pi / 2, 7)[1:-1]\n",
      "radius = 10 * np.pi / 180.\n",
      "\n",
      "#------------------------------------------------------------\n",
      "# Plot the built-in projections\n",
      "plt.figure(figsize=(5, 4))\n",
      "plt.subplots_adjust(hspace=0, wspace=0.12,\n",
      "                    left=0.08, right=0.95,\n",
      "                    bottom=0.05, top=1.0)\n",
      "\n",
      "for (i, projection) in enumerate(['Hammer', 'Aitoff', 'Mollweide', 'Lambert']):\n",
      "    ax = plt.subplot(221 + i, projection=projection.lower())\n",
      "\n",
      "    ax.xaxis.set_major_locator(plt.FixedLocator(np.pi / 3\n",
      "                                                * np.linspace(-2, 2, 5)))\n",
      "    ax.xaxis.set_minor_locator(plt.FixedLocator(np.pi / 6\n",
      "                                                * np.linspace(-5, 5, 11)))\n",
      "    ax.yaxis.set_major_locator(plt.FixedLocator(np.pi / 6\n",
      "                                                * np.linspace(-2, 2, 5)))\n",
      "    ax.yaxis.set_minor_locator(plt.FixedLocator(np.pi / 12\n",
      "                                                * np.linspace(-5, 5, 11)))\n",
      "\n",
      "    ax.grid(True, which='minor')\n",
      "\n",
      "    plot_tissot_ellipse(circ_long[:, None], circ_lat, radius,\n",
      "                        ax=ax, fc='k', alpha=0.3, linewidth=0)\n",
      "    ax.set_title('%s projection' % projection)\n",
      "\n",
      "plt.show()"
     ],
     "language": "python",
     "metadata": {},
     "outputs": [
      {
       "metadata": {},
       "output_type": "display_data",
       "png": "[encoded data removed]",
       "text": [
        "<matplotlib.figure.Figure at 0x10cdfc390>"
       ]
      }
     ],
     "prompt_number": 60
    },
    {
     "cell_type": "code",
     "collapsed": false,
     "input": [],
     "language": "python",
     "metadata": {},
     "outputs": []
    }
   ],
   "metadata": {}
  }
 ]
}