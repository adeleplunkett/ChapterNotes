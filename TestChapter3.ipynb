{
 "metadata": {
  "name": ""
 },
 "nbformat": 3,
 "nbformat_minor": 0,
 "worksheets": [
  {
   "cells": [
    {
     "cell_type": "heading",
     "level": 1,
     "metadata": {},
     "source": [
      "Chapter 3 -- Probability and Statistical Distributions"
     ]
    },
    {
     "cell_type": "heading",
     "level": 2,
     "metadata": {},
     "source": [
      "Random numbers and percentiles"
     ]
    },
    {
     "cell_type": "code",
     "collapsed": false,
     "input": [
      "import numpy as np\n",
      "x=np.random.random(100) # 100 random numbers\n",
      "q25, q50, q75 = np.percentile(x, [25,50,75])"
     ],
     "language": "python",
     "metadata": {},
     "outputs": [],
     "prompt_number": 1
    },
    {
     "cell_type": "code",
     "collapsed": false,
     "input": [
      "print '25th, 50th, 75th percentiles: %.2f %.2f %.2f' %(q25, q50, q75)"
     ],
     "language": "python",
     "metadata": {},
     "outputs": [
      {
       "output_type": "stream",
       "stream": "stdout",
       "text": [
        "25th, 50th, 75th percentiles: 0.25 0.48 0.71\n"
       ]
      }
     ],
     "prompt_number": 2
    },
    {
     "cell_type": "heading",
     "level": 2,
     "metadata": {},
     "source": [
      "Sigma"
     ]
    },
    {
     "cell_type": "code",
     "collapsed": false,
     "input": [
      "import numpy as np\n",
      "from astroML import stats\n",
      "x = np.random.normal(size=1000) #1000 normally distributed points\n",
      "stats.sigmaG(x)"
     ],
     "language": "python",
     "metadata": {},
     "outputs": [
      {
       "metadata": {},
       "output_type": "pyout",
       "prompt_number": 3,
       "text": [
        "1.0343081479287635"
       ]
      }
     ],
     "prompt_number": 3
    },
    {
     "cell_type": "heading",
     "level": 2,
     "metadata": {},
     "source": [
      "Uniform Distribution"
     ]
    },
    {
     "cell_type": "code",
     "collapsed": false,
     "input": [
      "from scipy import stats\n",
      "dist = stats.uniform(0,2) # left edge = 0, width = 2\n",
      "r = dist.rvs(10) # 10 random draws\n",
      "p = dist.pdf(1) # pdf evaluated at x=1"
     ],
     "language": "python",
     "metadata": {},
     "outputs": [],
     "prompt_number": 4
    },
    {
     "cell_type": "code",
     "collapsed": false,
     "input": [
      "print 'random draws are' \n",
      "print r"
     ],
     "language": "python",
     "metadata": {},
     "outputs": [
      {
       "output_type": "stream",
       "stream": "stdout",
       "text": [
        "random draws are\n",
        "[ 0.05732433  0.04145259  0.57192096  1.32333086  1.53203049  1.9835889\n",
        "  0.71554411  1.53575696  1.72611851  0.62222548]\n"
       ]
      }
     ],
     "prompt_number": 7
    },
    {
     "cell_type": "code",
     "collapsed": false,
     "input": [
      "print 'PDF evaluated at x=1 (remember, a uniform distribution with width of 2): %.1f' %(p)"
     ],
     "language": "python",
     "metadata": {},
     "outputs": [
      {
       "output_type": "stream",
       "stream": "stdout",
       "text": [
        "PDF evaluated at x=1 (remember, a normal distribution with width of 2): 0.5\n"
       ]
      }
     ],
     "prompt_number": 8
    },
    {
     "cell_type": "code",
     "collapsed": false,
     "input": [
      "# Author: Jake VanderPlas\n",
      "# License: BSD\n",
      "#   The figure produced by this code is published in the textbook\n",
      "#   \"Statistics, Data Mining, and Machine Learning in Astronomy\" (2013)\n",
      "#   For more information, see http://astroML.github.com\n",
      "#   To report a bug or issue, use the following forum:\n",
      "#    https://groups.google.com/forum/#!forum/astroml-general\n",
      "import numpy as np\n",
      "from scipy.stats import uniform\n",
      "from matplotlib import pyplot as plt\n",
      "%matplotlib inline  \n",
      "\n",
      "#----------------------------------------------------------------------\n",
      "# This function adjusts matplotlib settings for a uniform feel in the textbook.\n",
      "# Note that with usetex=True, fonts are rendered with LaTeX.  This may\n",
      "# result in an error if LaTeX is not installed on your system.  In that case,\n",
      "# you can set usetex to False.\n",
      "from astroML.plotting import setup_text_plots\n",
      "setup_text_plots(fontsize=8, usetex=True)\n",
      "\n",
      "#------------------------------------------------------------\n",
      "# Define the distribution parameters to be plotted\n",
      "W_values = [1.0, 2.0, 3.0]\n",
      "linestyles = ['-', '--', ':']\n",
      "mu = 0\n",
      "x = np.linspace(-2, 2, 1000)\n",
      "\n",
      "#------------------------------------------------------------\n",
      "# plot the distributions\n",
      "fig, ax = plt.subplots(figsize=(5, 3.75))\n",
      "\n",
      "for W, ls in zip(W_values, linestyles):\n",
      "    left = mu - 0.5 * W\n",
      "    dist = uniform(left, W)\n",
      "\n",
      "    plt.plot(x, dist.pdf(x), ls=ls, c='black',\n",
      "             label=r'$\\mu=%i,\\ W=%i$' % (mu, W))\n",
      "\n",
      "plt.xlim(-1.7, 1.7)\n",
      "plt.ylim(0, 1.2)\n",
      "\n",
      "plt.xlabel('$x$')\n",
      "plt.ylabel(r'$p(x|\\mu, W)$')\n",
      "plt.title('Uniform Distribution')\n",
      "\n",
      "plt.legend()\n",
      "plt.show()\n"
     ],
     "language": "python",
     "metadata": {},
     "outputs": [
      {
       "metadata": {},
       "output_type": "display_data",
       "png": "[encoded data removed]",
       "text": [
        "<matplotlib.figure.Figure at 0x1095ace10>"
       ]
      }
     ],
     "prompt_number": 10
    },
    {
     "cell_type": "heading",
     "level": 2,
     "metadata": {},
     "source": [
      "Gaussian (normal) distrubtion"
     ]
    },
    {
     "cell_type": "code",
     "collapsed": false,
     "input": [
      "from scipy import stats\n",
      "dist = stats.norm(0,1) # mean = 0, stdev = 1\n",
      "r = dist.rvs (10) # 10 random draws\n",
      "p = dist.pdf(0) # pdf evaluated at x=0"
     ],
     "language": "python",
     "metadata": {},
     "outputs": [],
     "prompt_number": 11
    },
    {
     "cell_type": "code",
     "collapsed": false,
     "input": [
      "print 'random draws are' \n",
      "print r"
     ],
     "language": "python",
     "metadata": {},
     "outputs": [
      {
       "output_type": "stream",
       "stream": "stdout",
       "text": [
        "random draws are\n",
        "[ 0.177998    1.18307998  1.48721012  2.66110164  1.04334428 -2.07839484\n",
        " -1.15089941  0.67576181 -0.19966996 -1.75488609]\n"
       ]
      }
     ],
     "prompt_number": 12
    },
    {
     "cell_type": "code",
     "collapsed": false,
     "input": [
      "print 'PDF evaluated at x=0 (remember, a normal distribution with mean of 0, stdev = 1): %.1f' %(p)"
     ],
     "language": "python",
     "metadata": {},
     "outputs": [
      {
       "output_type": "stream",
       "stream": "stdout",
       "text": [
        "PDF evaluated at x=0 (remember, a normal distribution with mean of 0, stdev = 1): 0.4\n"
       ]
      }
     ],
     "prompt_number": 13
    },
    {
     "cell_type": "code",
     "collapsed": false,
     "input": [
      "# Author: Jake VanderPlas\n",
      "# License: BSD\n",
      "#   The figure produced by this code is published in the textbook\n",
      "#   \"Statistics, Data Mining, and Machine Learning in Astronomy\" (2013)\n",
      "#   For more information, see http://astroML.github.com\n",
      "#   To report a bug or issue, use the following forum:\n",
      "#    https://groups.google.com/forum/#!forum/astroml-general\n",
      "import numpy as np\n",
      "from scipy.stats import norm\n",
      "from matplotlib import pyplot as plt\n",
      "%matplotlib inline  \n",
      "\n",
      "\n",
      "#----------------------------------------------------------------------\n",
      "# This function adjusts matplotlib settings for a uniform feel in the textbook.\n",
      "# Note that with usetex=True, fonts are rendered with LaTeX.  This may\n",
      "# result in an error if LaTeX is not installed on your system.  In that case,\n",
      "# you can set usetex to False.\n",
      "from astroML.plotting import setup_text_plots\n",
      "setup_text_plots(fontsize=8, usetex=True)\n",
      "\n",
      "#------------------------------------------------------------\n",
      "# Define the distributions to be plotted\n",
      "sigma_values = [0.5, 1.0, 2.0]\n",
      "linestyles = ['-', '--', ':']\n",
      "mu = 0\n",
      "x = np.linspace(-10, 10, 1000)\n",
      "\n",
      "#------------------------------------------------------------\n",
      "# plot the distributions\n",
      "fig, ax = plt.subplots(figsize=(5, 3.75))\n",
      "\n",
      "for sigma, ls in zip(sigma_values, linestyles):\n",
      "    # create a gaussian / normal distribution\n",
      "    dist = norm(mu, sigma)\n",
      "\n",
      "    plt.plot(x, dist.pdf(x), ls=ls, c='black',\n",
      "             label=r'$\\mu=%i,\\ \\sigma=%.1f$' % (mu, sigma))\n",
      "\n",
      "plt.xlim(-5, 5)\n",
      "plt.ylim(0, 0.85)\n",
      "\n",
      "plt.xlabel('$x$')\n",
      "plt.ylabel(r'$p(x|\\mu,\\sigma)$')\n",
      "plt.title('Gaussian Distribution')\n",
      "\n",
      "plt.legend()\n",
      "plt.show()"
     ],
     "language": "python",
     "metadata": {},
     "outputs": [
      {
       "metadata": {},
       "output_type": "display_data",
       "png": "[encoded data removed]",
       "text": [
        "<matplotlib.figure.Figure at 0x108142990>"
       ]
      }
     ],
     "prompt_number": 15
    },
    {
     "cell_type": "heading",
     "level": 4,
     "metadata": {},
     "source": [
      "Error Function"
     ]
    },
    {
     "cell_type": "code",
     "collapsed": false,
     "input": [
      "from scipy.special import erf\n",
      "erf(1)"
     ],
     "language": "python",
     "metadata": {},
     "outputs": [
      {
       "metadata": {},
       "output_type": "pyout",
       "prompt_number": 14,
       "text": [
        "0.84270079294971478"
       ]
      }
     ],
     "prompt_number": 14
    },
    {
     "cell_type": "heading",
     "level": 2,
     "metadata": {},
     "source": [
      "Binomial Distribution"
     ]
    },
    {
     "cell_type": "code",
     "collapsed": false,
     "input": [
      "from scipy import stats\n",
      "dist = stats.binom(20, 0.7) # N=20,b=0.7\n",
      "r = dist.rvs(10) # ten random draws\n",
      "p = dist.pmf(8) # probability evaluated at k=8"
     ],
     "language": "python",
     "metadata": {},
     "outputs": [],
     "prompt_number": 16
    },
    {
     "cell_type": "code",
     "collapsed": false,
     "input": [
      "from numpy.random import multinomial\n",
      "vals = multinomial(10, pvals=[0.2,0.3,0.5]) # pvals sum to 1"
     ],
     "language": "python",
     "metadata": {},
     "outputs": [],
     "prompt_number": 17
    },
    {
     "cell_type": "code",
     "collapsed": false,
     "input": [
      "print vals"
     ],
     "language": "python",
     "metadata": {},
     "outputs": [
      {
       "output_type": "stream",
       "stream": "stdout",
       "text": [
        "[1 5 4]\n"
       ]
      }
     ],
     "prompt_number": 18
    },
    {
     "cell_type": "heading",
     "level": 2,
     "metadata": {},
     "source": [
      "Poisson Distribution"
     ]
    },
    {
     "cell_type": "code",
     "collapsed": false,
     "input": [
      "from scipy import stats\n",
      "dist = stats.poisson(5) # mu=5\n",
      "r = dist.rvs(10) # 10 random draws\n",
      "p = dist.pmf(3) # probability evaluated at k=3"
     ],
     "language": "python",
     "metadata": {},
     "outputs": [],
     "prompt_number": 19
    },
    {
     "cell_type": "code",
     "collapsed": false,
     "input": [
      "print p"
     ],
     "language": "python",
     "metadata": {},
     "outputs": [
      {
       "output_type": "stream",
       "stream": "stdout",
       "text": [
        "0.140373895814\n"
       ]
      }
     ],
     "prompt_number": 20
    },
    {
     "cell_type": "heading",
     "level": 2,
     "metadata": {},
     "source": [
      "Cauchy (Lorentzian) Distribution"
     ]
    },
    {
     "cell_type": "code",
     "collapsed": false,
     "input": [
      "from scipy import stats\n",
      "dist = stats.cauchy(0,1) # mu=0, gamma=1\n",
      "r = dist.rvs(10) # 10 random draws\n",
      "p = dist.pdf(3) # pdf evaluated at x=3"
     ],
     "language": "python",
     "metadata": {},
     "outputs": [],
     "prompt_number": 21
    },
    {
     "cell_type": "code",
     "collapsed": false,
     "input": [
      "print p"
     ],
     "language": "python",
     "metadata": {},
     "outputs": [
      {
       "output_type": "stream",
       "stream": "stdout",
       "text": [
        "0.0318309886184\n"
       ]
      }
     ],
     "prompt_number": 22
    },
    {
     "cell_type": "heading",
     "level": 2,
     "metadata": {},
     "source": [
      "Exponential (Laplace) Distribution"
     ]
    },
    {
     "cell_type": "code",
     "collapsed": false,
     "input": [
      "from scipy import stats\n",
      "dist = stats.laplace(0,0.5) # mu=0, delta=0.5\n",
      "r = dist.rvs(10) # 10 random draws\n",
      "p = dist.pdf(3) # probability evaluated at x=3"
     ],
     "language": "python",
     "metadata": {},
     "outputs": [],
     "prompt_number": 24
    },
    {
     "cell_type": "code",
     "collapsed": false,
     "input": [
      "print p"
     ],
     "language": "python",
     "metadata": {},
     "outputs": [
      {
       "output_type": "stream",
       "stream": "stdout",
       "text": [
        "0.00247875217667\n"
       ]
      }
     ],
     "prompt_number": 25
    },
    {
     "cell_type": "heading",
     "level": 2,
     "metadata": {},
     "source": [
      "Chi-squared Distribution"
     ]
    },
    {
     "cell_type": "code",
     "collapsed": false,
     "input": [
      "from scipy import stats\n",
      "dist = stats.chi2(5) # k=5\n",
      "r = dist.rvs(10) # 10 random draws\n",
      "p = dist.pdf(1) # probability evaluated at x=1"
     ],
     "language": "python",
     "metadata": {},
     "outputs": [],
     "prompt_number": 26
    },
    {
     "cell_type": "code",
     "collapsed": false,
     "input": [
      "print p"
     ],
     "language": "python",
     "metadata": {},
     "outputs": [
      {
       "output_type": "stream",
       "stream": "stdout",
       "text": [
        "0.080656908173\n"
       ]
      }
     ],
     "prompt_number": 27
    },
    {
     "cell_type": "code",
     "collapsed": false,
     "input": [
      "# Author: Jake VanderPlas\n",
      "# License: BSD\n",
      "#   The figure produced by this code is published in the textbook\n",
      "#   \"Statistics, Data Mining, and Machine Learning in Astronomy\" (2013)\n",
      "#   For more information, see http://astroML.github.com\n",
      "#   To report a bug or issue, use the following forum:\n",
      "#    https://groups.google.com/forum/#!forum/astroml-general\n",
      "import numpy as np\n",
      "from scipy.stats import chi2\n",
      "from matplotlib import pyplot as plt\n",
      "%matplotlib inline  \n",
      "\n",
      "#----------------------------------------------------------------------\n",
      "# This function adjusts matplotlib settings for a uniform feel in the textbook.\n",
      "# Note that with usetex=True, fonts are rendered with LaTeX.  This may\n",
      "# result in an error if LaTeX is not installed on your system.  In that case,\n",
      "# you can set usetex to False.\n",
      "from astroML.plotting import setup_text_plots\n",
      "setup_text_plots(fontsize=8, usetex=True)\n",
      "\n",
      "#------------------------------------------------------------\n",
      "# Define the distribution parameters to be plotted\n",
      "k_values = [1, 2, 5, 7]\n",
      "linestyles = ['-', '--', ':', '-.']\n",
      "mu = 0\n",
      "x = np.linspace(-1, 20, 1000)\n",
      "\n",
      "#------------------------------------------------------------\n",
      "# plot the distributions\n",
      "fig, ax = plt.subplots(figsize=(5, 3.75))\n",
      "fig.subplots_adjust(bottom=0.12)\n",
      "\n",
      "for k, ls in zip(k_values, linestyles):\n",
      "    dist = chi2(k, mu)\n",
      "\n",
      "    plt.plot(x, dist.pdf(x), ls=ls, c='black',\n",
      "             label=r'$k=%i$' % k)\n",
      "\n",
      "plt.xlim(0, 10)\n",
      "plt.ylim(0, 0.5)\n",
      "\n",
      "plt.xlabel('$Q$')\n",
      "plt.ylabel(r'$p(Q|k)$')\n",
      "plt.title(r'$\\chi^2\\ \\mathrm{Distribution}$')\n",
      "\n",
      "plt.legend()\n",
      "plt.show()"
     ],
     "language": "python",
     "metadata": {},
     "outputs": [
      {
       "metadata": {},
       "output_type": "display_data",
       "png": "[encoded data removed]",
       "text": [
        "<matplotlib.figure.Figure at 0x109781510>"
       ]
      }
     ],
     "prompt_number": 28
    },
    {
     "cell_type": "heading",
     "level": 2,
     "metadata": {},
     "source": [
      "3.5 Multivariate Distributions"
     ]
    },
    {
     "cell_type": "heading",
     "level": 3,
     "metadata": {},
     "source": [
      "Figure 3.22 Bivariate Gaussian Distribution\u00b6"
     ]
    },
    {
     "cell_type": "code",
     "collapsed": false,
     "input": [
      "# Author: Jake VanderPlas\n",
      "# License: BSD\n",
      "#   The figure produced by this code is published in the textbook\n",
      "#   \"Statistics, Data Mining, and Machine Learning in Astronomy\" (2013)\n",
      "#   For more information, see http://astroML.github.com\n",
      "#   To report a bug or issue, use the following forum:\n",
      "#    https://groups.google.com/forum/#!forum/astroml-general\n",
      "import numpy as np\n",
      "from matplotlib import pyplot as plt\n",
      "from matplotlib.patches import Ellipse\n",
      "from astroML.stats.random import bivariate_normal\n",
      "%matplotlib inline  \n",
      "\n",
      "#----------------------------------------------------------------------\n",
      "# This function adjusts matplotlib settings for a uniform feel in the textbook.\n",
      "# Note that with usetex=True, fonts are rendered with LaTeX.  This may\n",
      "# result in an error if LaTeX is not installed on your system.  In that case,\n",
      "# you can set usetex to False.\n",
      "from astroML.plotting import setup_text_plots\n",
      "setup_text_plots(fontsize=8, usetex=True)\n",
      "\n",
      "#------------------------------------------------------------\n",
      "# Define the mean, principal axes, and rotation of the ellipse\n",
      "mean = np.array([0, 0])\n",
      "sigma_1 = 2\n",
      "sigma_2 = 1\n",
      "alpha = np.pi / 4\n",
      "\n",
      "#------------------------------------------------------------\n",
      "# Draw 10^5 points from a multivariate normal distribution\n",
      "#\n",
      "#   we use the bivariate_normal function from astroML.  A more\n",
      "#   general function for this is numpy.random.multivariate_normal(),\n",
      "#   which requires the user to specify the full covariance matrix.\n",
      "#   bivariate_normal() generates this covariance matrix for the\n",
      "#   given inputs.\n",
      "np.random.seed(0)\n",
      "x, cov = bivariate_normal(mean, sigma_1, sigma_2, alpha, size=100000,\n",
      "                          return_cov=True)\n",
      "\n",
      "sigma_x = np.sqrt(cov[0, 0])\n",
      "sigma_y = np.sqrt(cov[1, 1])\n",
      "sigma_xy = cov[0, 1]\n",
      "\n",
      "#------------------------------------------------------------\n",
      "# Plot the results\n",
      "fig = plt.figure(figsize=(5, 5))\n",
      "ax = fig.add_subplot(111)\n",
      "\n",
      "# plot a 2D histogram/hess diagram of the points\n",
      "H, bins = np.histogramdd(x, bins=2 * [np.linspace(-4.5, 4.5, 51)])\n",
      "ax.imshow(H, origin='lower', cmap=plt.cm.binary, interpolation='nearest',\n",
      "          extent=[bins[0][0], bins[0][-1], bins[1][0], bins[1][-1]])\n",
      "\n",
      "# draw 1, 2, 3-sigma ellipses over the distribution\n",
      "for N in (1, 2, 3):\n",
      "    ax.add_patch(Ellipse(mean, N * sigma_1, N * sigma_2,\n",
      "                         angle=alpha * 180. / np.pi, lw=1,\n",
      "                         ec='k', fc='none'))\n",
      "\n",
      "kwargs = dict(ha='left', va='top', transform=ax.transAxes)\n",
      "\n",
      "ax.text(0.02, 0.98, r\"$\\sigma_1 = %i$\" % sigma_1, **kwargs)\n",
      "ax.text(0.02, 0.93, r\"$\\sigma_2 = %i$\" % sigma_2, **kwargs)\n",
      "ax.text(0.02, 0.88, r\"$\\alpha = \\pi / %i$\" % (np.pi / alpha), **kwargs)\n",
      "\n",
      "ax.text(0.15, 0.98, r\"$\\sigma_x = %.2f$\" % sigma_x, **kwargs)\n",
      "ax.text(0.15, 0.93, r\"$\\sigma_y = %.2f$\" % sigma_y, **kwargs)\n",
      "ax.text(0.15, 0.88, r\"$\\sigma_{xy} = %.2f$\" % sigma_xy, **kwargs)\n",
      "\n",
      "ax.set_xlabel('$x$')\n",
      "ax.set_ylabel('$y$')\n",
      "\n",
      "plt.show()"
     ],
     "language": "python",
     "metadata": {},
     "outputs": [
      {
       "metadata": {},
       "output_type": "display_data",
       "png": "[encoded data removed]",
       "text": [
        "<matplotlib.figure.Figure at 0x101daa590>"
       ]
      }
     ],
     "prompt_number": 2
    },
    {
     "cell_type": "heading",
     "level": 3,
     "metadata": {},
     "source": [
      "Figure 3.23 Bivariate Gaussian: Robust Parameter Estimation"
     ]
    },
    {
     "cell_type": "heading",
     "level": 4,
     "metadata": {},
     "source": [
      "Note: Robust tells to use median and interquartile range, instead of mean and standard deviation.  This is less efficient, but better for outliers.  Robustness is difficult to do analytically.\n"
     ]
    },
    {
     "cell_type": "code",
     "collapsed": false,
     "input": [
      "# Author: Jake VanderPlas\n",
      "# License: BSD\n",
      "#   The figure produced by this code is published in the textbook\n",
      "#   \"Statistics, Data Mining, and Machine Learning in Astronomy\" (2013)\n",
      "#   For more information, see http://astroML.github.com\n",
      "#   To report a bug or issue, use the following forum:\n",
      "#    https://groups.google.com/forum/#!forum/astroml-general\n",
      "import numpy as np\n",
      "from scipy import stats\n",
      "from matplotlib import pyplot as plt\n",
      "from matplotlib.patches import Ellipse\n",
      "from astroML.stats import fit_bivariate_normal\n",
      "from astroML.stats.random import bivariate_normal\n",
      "\n",
      "\n",
      "# percent sign needs to be escaped if usetex is activated\n",
      "import matplotlib\n",
      "%matplotlib inline  \n",
      "\n",
      "if matplotlib.rcParams.get('text.usetex'):\n",
      "    pct = r'\\%'\n",
      "else:\n",
      "    pct = r'%'\n",
      "\n",
      "#----------------------------------------------------------------------\n",
      "# This function adjusts matplotlib settings for a uniform feel in the textbook.\n",
      "# Note that with usetex=True, fonts are rendered with LaTeX.  This may\n",
      "# result in an error if LaTeX is not installed on your system.  In that case,\n",
      "# you can set usetex to False.\n",
      "from astroML.plotting import setup_text_plots\n",
      "setup_text_plots(fontsize=8, usetex=True)\n",
      "\n",
      "N = 1000\n",
      "\n",
      "sigma1 = 2.0\n",
      "sigma2 = 1.0\n",
      "mu = [10, 10]\n",
      "alpha_deg = 45.0\n",
      "alpha = alpha_deg * np.pi / 180\n",
      "\n",
      "#------------------------------------------------------------\n",
      "# Draw N points from a multivariate normal distribution\n",
      "#\n",
      "#   we use the bivariate_normal function from astroML.  A more\n",
      "#   general function for this is numpy.random.multivariate_normal(),\n",
      "#   which requires the user to specify the full covariance matrix.\n",
      "#   bivariate_normal() generates this covariance matrix for the\n",
      "#   given inputs\n",
      "\n",
      "np.random.seed(0)\n",
      "X = bivariate_normal(mu, sigma1, sigma2, alpha, N)\n",
      "\n",
      "#------------------------------------------------------------\n",
      "# Create the figure showing the fits\n",
      "fig = plt.figure(figsize=(5, 2.5))\n",
      "fig.subplots_adjust(left=0.1, right=0.95, wspace=0.05,\n",
      "                    bottom=0.15, top=0.95)\n",
      "\n",
      "\n",
      "# We'll create two figures, with two levels of contamination\n",
      "for i, f in enumerate([0.05, 0.15]):\n",
      "    ax = fig.add_subplot(1, 2, i + 1)\n",
      "\n",
      "    # add outliers distributed using a bivariate normal.\n",
      "    X[:int(f * N)] = bivariate_normal((10, 10), 2, 4,\n",
      "                                      45 * np.pi / 180., int(f * N))\n",
      "    x, y = X.T\n",
      "\n",
      "    # compute the non-robust statistics\n",
      "    (mu_nr, sigma1_nr,\n",
      "     sigma2_nr, alpha_nr) = fit_bivariate_normal(x, y, robust=False)\n",
      "\n",
      "    # compute the robust statistics\n",
      "    (mu_r, sigma1_r,\n",
      "     sigma2_r, alpha_r) = fit_bivariate_normal(x, y, robust=True)\n",
      "\n",
      "    # scatter the points\n",
      "    ax.scatter(x, y, s=2, lw=0, c='k', alpha=0.5)\n",
      "\n",
      "    # Draw elipses showing the fits\n",
      "    for Nsig in [1, 3]:\n",
      "        # True fit\n",
      "        E = Ellipse((10, 10), sigma1 * Nsig, sigma2 * Nsig, alpha_deg,\n",
      "                    ec='k', fc='none')\n",
      "        ax.add_patch(E)\n",
      "\n",
      "        # Non-robust fit\n",
      "        E = Ellipse(mu_nr, sigma1_nr * Nsig, sigma2_nr * Nsig,\n",
      "                    (alpha_nr * 180. / np.pi),\n",
      "                    ec='k', fc='none', linestyle='dotted')\n",
      "        ax.add_patch(E)\n",
      "\n",
      "        # Robust fit\n",
      "        E = Ellipse(mu_r, sigma1_r * Nsig, sigma2_r * Nsig,\n",
      "                    (alpha_r * 180. / np.pi),\n",
      "                    ec='k', fc='none', linestyle='dashed')\n",
      "        ax.add_patch(E)\n",
      "\n",
      "    ax.text(0.04, 0.96, '%i%s outliers' % (f * 100, pct),\n",
      "            ha='left', va='top', transform=ax.transAxes)\n",
      "\n",
      "    ax.set_xlim(5.5, 14.5)\n",
      "    ax.set_ylim(5.5, 14.5)\n",
      "    ax.set_xlabel('$x$')\n",
      "\n",
      "    # This is a bit of a hack:\n",
      "    # We'll draw some lines off the picture to make our legend look better\n",
      "    ax.plot([0], [0], '-k', label='Input')\n",
      "    ax.plot([0], [0], ':k', label='Fit')\n",
      "    ax.plot([0], [0], '--k', label='Robust Fit')\n",
      "    ax.legend(loc='lower right')\n",
      "\n",
      "    if i == 0:\n",
      "        ax.set_ylabel('$y$')\n",
      "    else:\n",
      "        ax.yaxis.set_major_formatter(plt.NullFormatter())\n",
      "\n",
      "plt.show()"
     ],
     "language": "python",
     "metadata": {},
     "outputs": [
      {
       "metadata": {},
       "output_type": "display_data",
       "png": "[encoded data removed]",
       "text": [
        "<matplotlib.figure.Figure at 0x107fad950>"
       ]
      }
     ],
     "prompt_number": 1
    },
    {
     "cell_type": "heading",
     "level": 3,
     "metadata": {},
     "source": [
      "3.5.4 Multivariate Gaussian"
     ]
    },
    {
     "cell_type": "code",
     "collapsed": false,
     "input": [
      "import numpy as np\n",
      "mu = [1,2]\n",
      "cov = [[1,0.2],[0.2,3]]\n",
      "np.random.multivariate_normal(mu,cov)"
     ],
     "language": "python",
     "metadata": {},
     "outputs": [
      {
       "output_type": "stream",
       "stream": "stderr",
       "text": [
        "-c:4: DeprecationWarning: using a non-integer number instead of an integer will result in an error in the future\n"
       ]
      },
      {
       "metadata": {},
       "output_type": "pyout",
       "prompt_number": 8,
       "text": [
        "array([ 0.64112671,  3.28800093])"
       ]
      }
     ],
     "prompt_number": 8
    },
    {
     "cell_type": "heading",
     "level": 2,
     "metadata": {},
     "source": [
      "3.6 Correlation Coefficients"
     ]
    },
    {
     "cell_type": "code",
     "collapsed": false,
     "input": [
      "from scipy import stats\n",
      "x, y = np.random.random((2,100)) # 2 random arrays\n",
      "corr_coeff, p_value1 = stats.pearsonr(x,y)\n",
      "rho, p_value2 = stats.spearmanr(x,y)\n",
      "tau, p_value3 = stats.kendalltau(x,y)"
     ],
     "language": "python",
     "metadata": {},
     "outputs": [],
     "prompt_number": 11
    },
    {
     "cell_type": "code",
     "collapsed": false,
     "input": [
      "print 'Pearson: %.2f %.2f' %(corr_coeff,p_value1)\n",
      "print 'Spearman: %.2f %.2f' %(rho,p_value2)\n",
      "print 'Kendall: %.2f %.2f' %(tau,p_value3)"
     ],
     "language": "python",
     "metadata": {},
     "outputs": [
      {
       "output_type": "stream",
       "stream": "stdout",
       "text": [
        "Pearson: 0.06 0.58\n",
        "Spearman: 0.04 0.71\n",
        "Kendall: 0.02 0.73\n"
       ]
      }
     ],
     "prompt_number": 12
    },
    {
     "cell_type": "heading",
     "level": 2,
     "metadata": {},
     "source": [
      "Figure 3.24 Correlation Tests"
     ]
    },
    {
     "cell_type": "code",
     "collapsed": false,
     "input": [
      "import numpy as np\n",
      "from scipy import stats\n",
      "from matplotlib import pyplot as plt\n",
      "\n",
      "from astroML.stats.random import bivariate_normal\n",
      "from astroML.decorators import pickle_results\n",
      "\n",
      "# percent sign must be escaped if usetex=True\n",
      "import matplotlib\n",
      "%matplotlib inline  \n",
      "\n",
      "if matplotlib.rcParams.get('text.usetex'):\n",
      "    pct = '\\%'\n",
      "else:\n",
      "    pct = '%'\n",
      "\n",
      "#----------------------------------------------------------------------\n",
      "# This function adjusts matplotlib settings for a uniform feel in the textbook.\n",
      "# Note that with usetex=True, fonts are rendered with LaTeX.  This may\n",
      "# result in an error if LaTeX is not installed on your system.  In that case,\n",
      "# you can set usetex to False.\n",
      "from astroML.plotting import setup_text_plots\n",
      "setup_text_plots(fontsize=8, usetex=True)\n"
     ],
     "language": "python",
     "metadata": {},
     "outputs": [],
     "prompt_number": 13
    },
    {
     "cell_type": "heading",
     "level": 5,
     "metadata": {},
     "source": [
      "WARNING! The following cell takes a VERY long time to run"
     ]
    },
    {
     "cell_type": "code",
     "collapsed": false,
     "input": [
      "#------------------------------------------------------------\n",
      "# Set parameters for the distributions\n",
      "Nbootstraps = 5000\n",
      "N = 1000\n",
      "\n",
      "sigma1 = 2.0\n",
      "sigma2 = 1.0\n",
      "mu = (10.0, 10.0)\n",
      "alpha_deg = 45.0\n",
      "alpha = alpha_deg * np.pi / 180\n",
      "f = 0.01\n",
      "\n",
      "#------------------------------------------------------------\n",
      "# sample the distribution\n",
      "# without outliers and with outliers\n",
      "np.random.seed(0)\n",
      "X = bivariate_normal(mu, sigma1, sigma2, alpha, N)\n",
      "\n",
      "X_out = X.copy()\n",
      "X_out[:int(f * N)] = bivariate_normal(mu, 2, 5,\n",
      "                                      45 * np.pi / 180., int(f * N))\n",
      "\n",
      "# true values of rho (pearson/spearman r) and tau\n",
      "# tau value comes from Eq. 41 of arXiv:1011.2009\n",
      "rho_true = 0.6\n",
      "tau_true = 2 / np.pi * np.arcsin(rho_true)\n",
      "\n",
      "\n",
      "#------------------------------------------------------------\n",
      "# Create a function to compute the statistics.  Since this\n",
      "#  takes a while, we'll use the \"pickle_results\" decorator\n",
      "#  to save the results of the computation to disk\n",
      "@pickle_results('fig_correlations_dump.pkl')\n",
      "def compute_results(N, Nbootstraps):\n",
      "    results = np.zeros((3, 2, Nbootstraps))\n",
      "\n",
      "    for k in range(Nbootstraps):\n",
      "        ind = np.random.randint(N, size=N)\n",
      "        for j, data in enumerate([X, X_out]):\n",
      "            x = data[ind, 0]\n",
      "            y = data[ind, 1]\n",
      "            for i, statistic in enumerate([stats.pearsonr,\n",
      "                                           stats.spearmanr,\n",
      "                                           stats.kendalltau]):\n",
      "                results[i, j, k] = statistic(x, y)[0]\n",
      "\n",
      "    return results\n",
      "\n",
      "results = compute_results(N, Nbootstraps)\n"
     ],
     "language": "python",
     "metadata": {},
     "outputs": [
      {
       "output_type": "stream",
       "stream": "stdout",
       "text": [
        "@pickle_results: computing results and saving to 'fig_correlations_dump.pkl'\n"
       ]
      }
     ],
     "prompt_number": 14
    },
    {
     "cell_type": "code",
     "collapsed": false,
     "input": [
      "#------------------------------------------------------------\n",
      "# Plot the results in a three-panel plot\n",
      "fig = plt.figure(figsize=(5, 5))\n",
      "fig.subplots_adjust(bottom=0.1, top=0.95, hspace=0.25)\n",
      "\n",
      "histargs = (dict(alpha=0.5, label='No Outliers'),\n",
      "            dict(alpha=0.8, label='%i%s Outliers' % (int(f * 100), pct)))\n",
      "\n",
      "distributions = ['Pearson-r', 'Spearman-r', r'Kendall-$\\tau$']\n",
      "xlabels = ['r_p', 'r_s', r'\\tau']\\\n",
      "\n",
      "for i in range(3):\n",
      "    ax = fig.add_subplot(311 + i)\n",
      "    for j in range(2):\n",
      "        ax.hist(results[i, j], 40, histtype='stepfilled', fc='gray',\n",
      "                normed=True, **histargs[j])\n",
      "\n",
      "    if i == 0:\n",
      "        ax.legend(loc=2)\n",
      "\n",
      "    ylim = ax.get_ylim()\n",
      "    if i < 2:\n",
      "        ax.plot([rho_true, rho_true], ylim, '--k', lw=1)\n",
      "        ax.set_xlim(0.34, 0.701)\n",
      "    else:\n",
      "        ax.plot([tau_true, tau_true], ylim, '--k', lw=1)\n",
      "        ax.set_xlim(0.31, 0.48)\n",
      "    ax.set_ylim(ylim)\n",
      "\n",
      "    ax.text(0.98, 0.95, distributions[i], ha='right', va='top',\n",
      "            transform=ax.transAxes, bbox=dict(fc='w', ec='w'))\n",
      "\n",
      "    ax.set_xlabel('$%s$' % xlabels[i])\n",
      "    ax.set_ylabel('$N(%s)$' % xlabels[i])\n",
      "\n",
      "plt.show()\n"
     ],
     "language": "python",
     "metadata": {},
     "outputs": [
      {
       "metadata": {},
       "output_type": "display_data",
       "png": "[encoded data removed]",
       "text": [
        "<matplotlib.figure.Figure at 0x108353690>"
       ]
      }
     ],
     "prompt_number": 15
    },
    {
     "cell_type": "heading",
     "level": 3,
     "metadata": {},
     "source": [
      "Figure 3.25 Drawing from a sample by inverting"
     ]
    },
    {
     "cell_type": "heading",
     "level": 4,
     "metadata": {},
     "source": [
      "Note: This is useful for taking a real dataset and making a fake dataset with the same shape (for sampling purposes)"
     ]
    },
    {
     "cell_type": "code",
     "collapsed": false,
     "input": [
      "# Author: Jake VanderPlas\n",
      "# License: BSD\n",
      "#   The figure produced by this code is published in the textbook\n",
      "#   \"Statistics, Data Mining, and Machine Learning in Astronomy\" (2013)\n",
      "#   For more information, see http://astroML.github.com\n",
      "#   To report a bug or issue, use the following forum:\n",
      "#    https://groups.google.com/forum/#!forum/astroml-general\n",
      "import numpy as np\n",
      "from matplotlib import pyplot as plt\n",
      "from scipy import stats, interpolate\n",
      "from astroML.plotting import hist\n",
      "from astroML.density_estimation import EmpiricalDistribution\n",
      "\n",
      "#### Add this in for convenience\n",
      "%matplotlib inline  \n",
      "import warnings\n",
      "warnings.filterwarnings(\"ignore\")\n",
      "####\n",
      "\n",
      "#----------------------------------------------------------------------\n",
      "# This function adjusts matplotlib settings for a uniform feel in the textbook.\n",
      "# Note that with usetex=True, fonts are rendered with LaTeX.  This may\n",
      "# result in an error if LaTeX is not installed on your system.  In that case,\n",
      "# you can set usetex to False.\n",
      "from astroML.plotting import setup_text_plots\n",
      "setup_text_plots(fontsize=8, usetex=True)\n",
      "\n",
      "#------------------------------------------------------------\n",
      "# Create a distribution and clone it\n",
      "Ndata = 1000\n",
      "Nclone = 100000\n",
      "np.random.seed(0)\n",
      "\n",
      "# generate an 'observed' bimodal distribution with 10000 values\n",
      "dists = (stats.norm(-1.3, 0.5), stats.norm(1.3, 0.5))\n",
      "fracs = (0.6, 0.4)\n",
      "x = np.hstack((d.rvs(f * Ndata) for d, f in zip(dists, fracs)))\n",
      "\n",
      "# We can clone the distribution easily with this function\n",
      "x_cloned = EmpiricalDistribution(x).rvs(Nclone)\n",
      "\n",
      "# compute the KS test to check if they're the same\n",
      "D, p = stats.ks_2samp(x, x_cloned)\n",
      "print \"KS test: D = %.2g; p = %.2g\" % (D, p)\n",
      "\n",
      "#------------------------------------------------------------\n",
      "# For the sake of this example, we need to calculate some\n",
      "#  of the partial steps used by EmpiricalDistribution\n",
      "\n",
      "# create a cumulative distribution\n",
      "x.sort()\n",
      "Px_cuml = np.linspace(0, 1, Ndata)\n",
      "\n",
      "# set up an interpolation of the inverse cumulative distribution\n",
      "tck = interpolate.splrep(Px_cuml, x)\n",
      "\n",
      "# sample evenly along the cumulative distribution, and interpolate\n",
      "Px_cuml_sample = np.linspace(0, 1, 10 * Ndata)\n",
      "x_sample = interpolate.splev(Px_cuml_sample, tck)\n",
      "\n",
      "#------------------------------------------------------------\n",
      "# Plot the cloned distribution and the procedure for obtaining it\n",
      "fig = plt.figure(figsize=(5, 5))\n",
      "fig.subplots_adjust(hspace=0.3, left=0.1, right=0.95,\n",
      "                    bottom=0.08, top=0.92)\n",
      "\n",
      "indices = np.linspace(0, Ndata - 1, 20).astype(int)\n",
      "\n",
      "# plot a histogram of the input\n",
      "ax = fig.add_subplot(221)\n",
      "hist(x, bins='knuth', ax=ax,\n",
      "     histtype='stepfilled', ec='k', fc='#AAAAAA')\n",
      "ax.set_ylim(0, 300)\n",
      "ax.set_title('Input data distribution')\n",
      "ax.set_xlabel('$x$')\n",
      "ax.set_ylabel('$N(x)$')\n",
      "\n",
      "# plot the cumulative distribution\n",
      "ax = fig.add_subplot(222)\n",
      "ax.scatter(x[indices], Px_cuml[indices], lw=0, c='k', s=9)\n",
      "ax.plot(x, Px_cuml, '-k')\n",
      "ax.set_xlim(-3, 3)\n",
      "ax.set_ylim(-0.05, 1.05)\n",
      "ax.set_title('Cumulative Distribution')\n",
      "ax.set_xlabel('$x$')\n",
      "ax.set_ylabel('$p(<x)$')\n",
      "\n",
      "# plot the inverse cumulative distribution and spline fit\n",
      "ax = fig.add_subplot(223)\n",
      "ax.scatter(Px_cuml[indices], x[indices], lw=0, c='k', s=9)\n",
      "ax.plot(Px_cuml_sample, x_sample, '-k')\n",
      "ax.arrow(0.7, -3, 0, 3.5, width=0.015, fc='gray', ec='gray',\n",
      "         head_width=0.05, head_length=0.4)\n",
      "ax.arrow(0.7, 0.9, -0.69, 0, width=0.1, fc='gray', ec='gray',\n",
      "         head_width=0.3, head_length=0.06)\n",
      "ax.set_xlim(-0.05, 1.05)\n",
      "ax.set_ylim(-3, 3)\n",
      "ax.set_title('Inverse Cuml. Distribution')\n",
      "ax.set_xlabel('$p(<x)$')\n",
      "ax.set_ylabel('$x$')\n",
      "\n",
      "# plot the resulting cloned distribution\n",
      "ax = fig.add_subplot(224)\n",
      "hist(x, bins='knuth', ax=ax,\n",
      "     histtype='stepfilled', normed=True,\n",
      "     ec='#AAAAAA', fc='#DDDDDD',\n",
      "     label='input data')\n",
      "hist(x_cloned, bins='knuth', ax=ax,\n",
      "     histtype='step', normed=True,\n",
      "     color='k', label='cloned data')\n",
      "ax.set_title('Cloned Distribution')\n",
      "ax.set_xlabel('$x$')\n",
      "ax.set_ylabel('$p(x)dx$')\n",
      "ax.text(0.75, 0.95, \"KS test:\\nD = %.2f\\np = %.2f\" % (D, p),\n",
      "        ha='left', va='top', transform=ax.transAxes)\n",
      "\n",
      "plt.show()"
     ],
     "language": "python",
     "metadata": {},
     "outputs": [
      {
       "output_type": "stream",
       "stream": "stdout",
       "text": [
        "KS test: D = 0.0028; p = 1\n",
        "Optimization terminated successfully.\n",
        "         Current function value: -278.580487\n",
        "         Iterations: 14\n",
        "         Function evaluations: 41\n",
        "Optimization terminated successfully."
       ]
      },
      {
       "output_type": "stream",
       "stream": "stdout",
       "text": [
        "\n",
        "         Current function value: -278.580487\n",
        "         Iterations: 14\n",
        "         Function evaluations: 41\n",
        "Optimization terminated successfully."
       ]
      },
      {
       "output_type": "stream",
       "stream": "stdout",
       "text": [
        "\n",
        "         Current function value: -35695.900900\n",
        "         Iterations: 16\n",
        "         Function evaluations: 44\n"
       ]
      },
      {
       "metadata": {},
       "output_type": "display_data",
       "png": "[encoded data removed]",
       "text": [
        "<matplotlib.figure.Figure at 0x108369fd0>"
       ]
      }
     ],
     "prompt_number": 17
    },
    {
     "cell_type": "code",
     "collapsed": false,
     "input": [],
     "language": "python",
     "metadata": {},
     "outputs": []
    }
   ],
   "metadata": {}
  }
 ]
}